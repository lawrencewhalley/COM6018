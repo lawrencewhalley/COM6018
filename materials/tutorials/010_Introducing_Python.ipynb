{
 "cells": [
  {
   "cell_type": "markdown",
   "id": "0",
   "metadata": {},
   "source": [
    "# 010 Getting Started with Python\n",
    "\n",
    "> COM6018\n",
    "\n",
    "*Copyright © 2023–2025 Jon Barker, University of Sheffield. All rights reserved.*\n",
    "\n",
    "\n",
    "## 1. Introduction\n",
    "\n",
    "### What is Python ?\n",
    "\n",
    "A modern, object-orientated, high-level programming language\n",
    "\n",
    "* **Easy-to-learn**: simple syntax and intuitive code\n",
    "* **Expressive**: can do a lot with a few lines of code\n",
    "* **Interpreted**: no need to compile\n",
    "* **Dynamically typed**: no need to define the types of variables\n",
    "* **Memory managed**: no c-style 'memory leak' bugs\n",
    "\n",
    "### Why Python ?\n",
    "\n",
    "Why are we using Python in COM6018?\n",
    "\n",
    "* Python is **widely used** in the scientific computing community\n",
    "* Extensive ecosystem of rapidly maturing **libraries**\n",
    "* **Good performance** - closely integrated with time-tested C and Fortran code\n",
    "  * blas, atlas, lapack etc\n",
    "* No license costs (i.e., **free**!) and easy to install\n",
    "* It's a **useful** language to know, i.e. useful outside of COM6018\n",
    "\n",
    "## 2. Running Python code\n",
    "\n",
    "There are many ways to run Python code including running scripts from the command line, using **Jupyter notebooks** (which we will be using in the labs), or working interactively in a Python shell (e.g. `ipython`).\n",
    "\n",
    "### 2.1 Using the iPython interactive shell\n",
    "\n",
    "If you are reading these notes at a computer then the easiest way to try out the examples is to cut and paste them into a Python shell.\n",
    "\n",
    "To start a Python shell, open a terminal and type `python` or `ipython` (if installed)."
   ]
  },
  {
   "cell_type": "code",
   "execution_count": null,
   "id": "1",
   "metadata": {
    "tags": [
     "remove-output"
    ]
   },
   "outputs": [],
   "source": [
    "%%bash\n",
    "ipython"
   ]
  },
  {
   "cell_type": "markdown",
   "id": "2",
   "metadata": {},
   "source": [
    "The **IPython shell** is an enhanced version of the standard Python shell with many useful features including tab completion, command history, and object introspection.\n",
    "\n",
    "If you are viewing these notes in a web-browser there will be a button in each code block that copies the contents to the clipboard when clicked. You can then paste the code into your Python or IPython shell. Try this with the Python code block below."
   ]
  },
  {
   "cell_type": "code",
   "execution_count": null,
   "id": "3",
   "metadata": {},
   "outputs": [],
   "source": [
    "print('Hello world!')"
   ]
  },
  {
   "cell_type": "markdown",
   "id": "4",
   "metadata": {},
   "source": [
    "If you are reading these notes in the **VSCode editor** (the free editor that we are recommending for the module) then you can install the **Markdown Preview Enhanced** editor extension and run the `Open Preview` command. Now, if you hover over a cell, a button will appear that allows you to run the contents directly with the output appearing below the code block.\n",
    "\n",
    "### 2.2 Running Python scripts\n",
    "\n",
    "For longer programs, Python code is usually stored in a file and run from the\n",
    "command line. Programs are stored in files with a .py extension.\n",
    "\n",
    "For example, a program to print `Hello world!` could be stored in a file `hello.py`\n",
    "with the following contents"
   ]
  },
  {
   "cell_type": "code",
   "execution_count": null,
   "id": "5",
   "metadata": {},
   "outputs": [],
   "source": [
    "# A program to print 'Hello world!'\n",
    "print('Hello world!')"
   ]
  },
  {
   "cell_type": "markdown",
   "id": "6",
   "metadata": {},
   "source": [
    "This program could then be run from the command line using"
   ]
  },
  {
   "cell_type": "code",
   "execution_count": null,
   "id": "7",
   "metadata": {
    "tags": [
     "remove-output"
    ]
   },
   "outputs": [],
   "source": [
    "%%bash\n",
    "python code/hello_world.py"
   ]
  },
  {
   "cell_type": "markdown",
   "id": "8",
   "metadata": {},
   "source": [
    "### 2.3 Loading Modules\n",
    "\n",
    "When you write a Python program you rarely start from scratch. Instead you build on **library code** that others have already written. This code is organised into **modules**. Many of these modules come with the language and are part of the so-called **Python Standard Library**. Other modules are available from third-parties and can be installed using the `pip` package manager. In this course we will be using some very popular third-party modules which are industry-standard for data science,  including `numpy`, `scipy`, `matplotlib`, and `pandas`.\n",
    "\n",
    "When using code from a module, the module first needs to be imported. Once a module is imported it will define a **namespace** which contains all the module's functions and variables. To access these functions and variables you need to prefix them with the name of the module.\n",
    "\n",
    "For example, the `sqrt` (square-root) function is defined in the `math` module which\n",
    "is part of the Python Standard Library.\n",
    "\n",
    "In the example below, we use the keyword `import` to import the `math` module. We can then access the `sqrt` function using the syntax `math.sqrt`. We then use the Python builtin `print` function to print some result to the screen."
   ]
  },
  {
   "cell_type": "code",
   "execution_count": null,
   "id": "9",
   "metadata": {},
   "outputs": [],
   "source": [
    "import math\n",
    "print(math.sqrt(12.0))\n",
    "print(math.sqrt(12.0))"
   ]
  },
  {
   "cell_type": "markdown",
   "id": "10",
   "metadata": {},
   "source": [
    "Once a module is imported you can get help about it by using the `help` function."
   ]
  },
  {
   "cell_type": "code",
   "execution_count": null,
   "id": "11",
   "metadata": {},
   "outputs": [],
   "source": [
    "import math\n",
    "# help(math)"
   ]
  },
  {
   "cell_type": "markdown",
   "id": "12",
   "metadata": {},
   "source": [
    "You can also get help on a specific module function. For example to see help for the `sqrt` function we can use,"
   ]
  },
  {
   "cell_type": "code",
   "execution_count": null,
   "id": "13",
   "metadata": {},
   "outputs": [],
   "source": [
    "import math\n",
    "help(math.sqrt)"
   ]
  },
  {
   "cell_type": "markdown",
   "id": "14",
   "metadata": {},
   "source": [
    "### 2.4 Importing specific functions\n",
    "\n",
    "Sometimes you only want to import a specific function from a module. This can be done as follows,"
   ]
  },
  {
   "cell_type": "code",
   "execution_count": null,
   "id": "15",
   "metadata": {},
   "outputs": [],
   "source": [
    "from math import cos   # import cos into the namespace\n",
    "x = cos(0.4)           # no need to write math.cos\n",
    "print(x)"
   ]
  },
  {
   "cell_type": "markdown",
   "id": "16",
   "metadata": {},
   "source": [
    "Note, how in the example above we no longer need to prefix the function with the module name when we use it. This is because the `from X import Y` syntax imports the function `Y` directly into the current namespace.\n",
    "\n",
    "It is possible to import all the functions from a module into the current namespace by\n",
    "using the wildcard `*` syntax."
   ]
  },
  {
   "cell_type": "code",
   "execution_count": null,
   "id": "17",
   "metadata": {},
   "outputs": [],
   "source": [
    "from math import *    # import all functions\n",
    "x = sqrt(4.0)\n",
    "print(x)"
   ]
  },
  {
   "cell_type": "markdown",
   "id": "18",
   "metadata": {},
   "source": [
    ":fire: Importing like this may seem convenient, but it is not recommended. It can lead to **namespace clashes**, i.e., different modules might have used the same name for their own version of a function. If both are imported it can be difficult for the reader to know which function is the one being used.\n",
    "\n",
    "## 3 Variables and Types\n",
    "\n",
    "Variables are dynamically typed, i.e., in contrast to languages like Java or C there is no need to explicitly declare the type before the variable is used. For example, we can assign an integer value to a variable simply by writing,"
   ]
  },
  {
   "cell_type": "code",
   "execution_count": null,
   "id": "19",
   "metadata": {},
   "outputs": [],
   "source": [
    "a = 1\n",
    "print(type(a))"
   ]
  },
  {
   "cell_type": "markdown",
   "id": "20",
   "metadata": {},
   "source": [
    "In the code above, we use the `type` function to return and print the type of the variable `a` and we see that it is an `int` (i.e., integer).\n",
    "\n",
    "Alternatively, if we write,"
   ]
  },
  {
   "cell_type": "code",
   "execution_count": null,
   "id": "21",
   "metadata": {},
   "outputs": [],
   "source": [
    "b = 1.0\n",
    "print(type(b))"
   ]
  },
  {
   "cell_type": "markdown",
   "id": "22",
   "metadata": {},
   "source": [
    "then we will see that the returned type is `float` (i.e., floating point). The type has been inferred from the type of the *literal* value that we assigned to the variable: `1.0` is a float because it has a decimal point whereas `1` is an integer because it does not.\n",
    "\n",
    "Now let us see what happens if we assign a new value to a variable."
   ]
  },
  {
   "cell_type": "code",
   "execution_count": null,
   "id": "23",
   "metadata": {},
   "outputs": [],
   "source": [
    "b = 1.0\n",
    "print('b is initially of type', type(b))\n",
    "a = 1\n",
    "b = a\n",
    "print('b is now of type', type(b))"
   ]
  },
  {
   "cell_type": "markdown",
   "id": "24",
   "metadata": {},
   "source": [
    "Note how the type of the variable `b` has changed from `float` to `int` after we assigned it the value of `a`. This is what we mean by dynamic typing. A variable can change type during the execution of a program.\n",
    "\n",
    "### 3.1 Numeric types\n",
    "\n",
    "A variable is of type `int` (i.e., integer) if it is assigned a value without a decimal point"
   ]
  },
  {
   "cell_type": "code",
   "execution_count": null,
   "id": "25",
   "metadata": {},
   "outputs": [],
   "source": [
    "x = 1\n",
    "print(type(x))"
   ]
  },
  {
   "cell_type": "markdown",
   "id": "26",
   "metadata": {},
   "source": [
    "It will be of type `float` (i.e., floating point) if it is assigned a value with a decimal point"
   ]
  },
  {
   "cell_type": "code",
   "execution_count": null,
   "id": "27",
   "metadata": {},
   "outputs": [],
   "source": [
    "x = 1.0\n",
    "y = 5.\n",
    "print(type(x), type(y))"
   ]
  },
  {
   "cell_type": "markdown",
   "id": "28",
   "metadata": {},
   "source": [
    "Variables are of type `bool` (i.e., Boolean value) if assigned the value `True` or `False`"
   ]
  },
  {
   "cell_type": "code",
   "execution_count": null,
   "id": "29",
   "metadata": {},
   "outputs": [],
   "source": [
    "x = True\n",
    "y = False\n",
    "print(type(y), type(x))"
   ]
  },
  {
   "cell_type": "markdown",
   "id": "30",
   "metadata": {},
   "source": [
    "There is a builtin type for `complex` numbers which have a real and an imaginary part."
   ]
  },
  {
   "cell_type": "code",
   "execution_count": null,
   "id": "31",
   "metadata": {},
   "outputs": [],
   "source": [
    "x = 1.0 + 4.0j\n",
    "print(type(x))"
   ]
  },
  {
   "cell_type": "markdown",
   "id": "32",
   "metadata": {},
   "source": [
    "Note that Python uses `j` to represent the imaginary part of a complex number. (This is the normal convention in engineering and physics, but in mathematics `i` is used instead.)\n",
    "\n",
    "## 4 Operators\n",
    "\n",
    "An **operator** is a symbol that tells the interpreter to perform a specific mathematical or logical manipulation. Python has a rich set of built-in operators.\n",
    "\n",
    "### 4.1 Arithmetic Operators\n",
    "\n",
    "The basic arithmetic operators are `+` (addition), `-` (subtraction), `*` (multiplication), `/` (division), `//` (integer division), `%` (modulus), and `**` (exponentiation).\n",
    "\n",
    "In the examples below we are passing the expressions to the `print` function which prints the result to the screen."
   ]
  },
  {
   "cell_type": "code",
   "execution_count": null,
   "id": "33",
   "metadata": {},
   "outputs": [],
   "source": [
    "print(20 + 3, 20 - 3)"
   ]
  },
  {
   "cell_type": "markdown",
   "id": "34",
   "metadata": {},
   "source": [
    "(Note, the print function can take multiple arguments (separated by commas) and these are printed separated by spaces. We are making use of this to demonstrate multiple expressions on a single line for compactness.)"
   ]
  },
  {
   "cell_type": "code",
   "execution_count": null,
   "id": "35",
   "metadata": {},
   "outputs": [],
   "source": [
    "print(20 * 3, 20 / 3, 20.0 // 3)  # Note, *integer* division"
   ]
  },
  {
   "cell_type": "markdown",
   "id": "36",
   "metadata": {},
   "source": [
    "In the example above we are using the **integer division** operator `//` which returns the integer part of the result of the division."
   ]
  },
  {
   "cell_type": "code",
   "execution_count": null,
   "id": "37",
   "metadata": {},
   "outputs": [],
   "source": [
    "print(20 % 3, 20.5 % 3.1)  # Modulus, i.e. remainder"
   ]
  },
  {
   "cell_type": "markdown",
   "id": "38",
   "metadata": {},
   "source": [
    "There are also a set of operators that act on a variable **in-place**. For example, the `+=` operator adds a value to a variable and stores the result back in the same variable."
   ]
  },
  {
   "cell_type": "code",
   "execution_count": null,
   "id": "39",
   "metadata": {},
   "outputs": [],
   "source": [
    "a = 1\n",
    "a += 1\n",
    "print(a)"
   ]
  },
  {
   "cell_type": "markdown",
   "id": "40",
   "metadata": {},
   "source": [
    "This would be equivalent to"
   ]
  },
  {
   "cell_type": "code",
   "execution_count": null,
   "id": "41",
   "metadata": {},
   "outputs": [],
   "source": [
    "a = a + 1"
   ]
  },
  {
   "cell_type": "markdown",
   "id": "42",
   "metadata": {},
   "source": [
    "It is recommended to use the in-place operators where possible as they are more efficient and make the code more compact.\n",
    "\n",
    "Other in-place operators include `-=` (subtraction), `*=` (multiplication), `/=` (division), `//=` (integer division), `%=` (modulus), and `**=` (exponentiation).\n",
    "\n",
    "For example, to multiply a variably by 5 we could write,"
   ]
  },
  {
   "cell_type": "code",
   "execution_count": null,
   "id": "43",
   "metadata": {},
   "outputs": [],
   "source": [
    "a = 2.0\n",
    "a *= 5\n",
    "print(a)"
   ]
  },
  {
   "cell_type": "markdown",
   "id": "44",
   "metadata": {},
   "source": [
    "## 4.2 Comparison Operators\n",
    "\n",
    "Comparison operators take a pair of values or expressions and return a Boolean value (`True` or `False`).\n",
    "\n",
    "The Python comparison operators include `==` (equal), `!=` (not equal), `>` (greater than), `<` (less than), `>=` (greater than or equal), and `<=` (less than or equal)."
   ]
  },
  {
   "cell_type": "code",
   "execution_count": null,
   "id": "45",
   "metadata": {},
   "outputs": [],
   "source": [
    "print(4 > 7,  4 < 7, 4 >= 7, 4 <= 7)"
   ]
  },
  {
   "cell_type": "code",
   "execution_count": null,
   "id": "46",
   "metadata": {},
   "outputs": [],
   "source": [
    "print(4 == 7, 4 != 7)"
   ]
  },
  {
   "cell_type": "markdown",
   "id": "47",
   "metadata": {},
   "source": [
    "## 4.3 Logical Operators\n",
    "\n",
    "Logical operators take Boolean values and return Boolean values.\n",
    "\n",
    "The Python logical operators include `and`, `or`, and `not`."
   ]
  },
  {
   "cell_type": "code",
   "execution_count": null,
   "id": "48",
   "metadata": {},
   "outputs": [],
   "source": [
    "print(4 > 7 and 4 < 7)"
   ]
  },
  {
   "cell_type": "code",
   "execution_count": null,
   "id": "49",
   "metadata": {},
   "outputs": [],
   "source": [
    "print(4 > 7 or 4 < 7)"
   ]
  },
  {
   "cell_type": "code",
   "execution_count": null,
   "id": "50",
   "metadata": {},
   "outputs": [],
   "source": [
    "print(not 4 > 7)"
   ]
  },
  {
   "cell_type": "markdown",
   "id": "51",
   "metadata": {},
   "source": [
    "## 5 Compound Types\n",
    "\n",
    "A compound type is a type that can contain other types. Python has the following built-in compound types:\n",
    "\n",
    "* **Strings**\n",
    "* **Lists**\n",
    "* **Tuples**\n",
    "* **Sets**\n",
    "* **Dictionaries**\n",
    "\n",
    "### 5.1 Strings\n",
    "\n",
    "Strings are used to represent text. Strings can be defined using either single or double quotes."
   ]
  },
  {
   "cell_type": "code",
   "execution_count": null,
   "id": "52",
   "metadata": {},
   "outputs": [],
   "source": [
    "city = \"Sheffield\"\n",
    "print(type(city))"
   ]
  },
  {
   "cell_type": "code",
   "execution_count": null,
   "id": "53",
   "metadata": {},
   "outputs": [],
   "source": [
    "city = 'Sheffi\"eld'   # can use \" or '\n",
    "print(type(city))"
   ]
  },
  {
   "cell_type": "markdown",
   "id": "54",
   "metadata": {},
   "source": [
    "A string can be thought of as a `list` of characters (we will see more about lists in the next section). A common operation for lists is to retrieve a single entry from the list. This can be done using the **indexing** operator `[]`. So for example, to retrieve the first character of a string we would write,"
   ]
  },
  {
   "cell_type": "code",
   "execution_count": null,
   "id": "55",
   "metadata": {},
   "outputs": [],
   "source": [
    "city = \"Sheffield\"\n",
    "print(city[0])  # strings are like lists characters"
   ]
  },
  {
   "cell_type": "markdown",
   "id": "56",
   "metadata": {},
   "source": [
    "To retrieve the second character we would write,"
   ]
  },
  {
   "cell_type": "code",
   "execution_count": null,
   "id": "57",
   "metadata": {},
   "outputs": [],
   "source": [
    "city = \"Sheffield\"\n",
    "print(city[1])"
   ]
  },
  {
   "cell_type": "markdown",
   "id": "58",
   "metadata": {},
   "source": [
    "Note that Python uses **zero-based indexing**. This means that the first element of a list or string is at index 0, the second element is at index 1, and so on.\n",
    "\n",
    "Strings can be joined together using the `+` operator."
   ]
  },
  {
   "cell_type": "code",
   "execution_count": null,
   "id": "59",
   "metadata": {},
   "outputs": [],
   "source": [
    "city = 'Sheffi\"eld'   # can use \" or '\n",
    "print('Jon' + ' ' + 'Barker')  # string concatenation"
   ]
  },
  {
   "cell_type": "markdown",
   "id": "60",
   "metadata": {},
   "source": [
    "Note here how the meaning of the `+` operator depends on the types of things it is being applied to. When applied to numbers it performs addition, but when applied to strings it performs concatenation.\n",
    "\n",
    "#### A note on Classes and Methods\n",
    "\n",
    "The type `str`, like all types in Python, is represented by a  `class`. If you have not studied object-orientated programming before don't worry about what this means for now. All you need to know at this point is that a class is a type that has associated functions (called **methods**) that can be applied to objects of that type.\n",
    "\n",
    "There are many methods that can be applied to string objects. To apply a method to a variable we use the following syntax, `variable.method()`.\n",
    "\n",
    "For example, the string class has a method called `upper` that returns a new string with all the characters in uppercase, and a method called `lower` that returns a new string with all the characters in lowercase. To apply these methods to a string we would write,"
   ]
  },
  {
   "cell_type": "code",
   "execution_count": null,
   "id": "61",
   "metadata": {},
   "outputs": [],
   "source": [
    "city = \"sheffield\"\n",
    "print(city.upper())\n",
    "print(city.lower())"
   ]
  },
  {
   "cell_type": "markdown",
   "id": "62",
   "metadata": {},
   "source": [
    "We can print out the complete list of methods that can be applied to a string by using the `help` function. In the cell below, remove the `#` from the start of the line and then run the code.\n",
    "\n",
    "(The `#` is a comment character in Python and is used to indicate that the line is a comment and should not be executed. It is being used here to prevent the code from running when the notebook is loaded. I have done this as I did not want to clutter the notes with the help text.)"
   ]
  },
  {
   "cell_type": "code",
   "execution_count": null,
   "id": "63",
   "metadata": {},
   "outputs": [],
   "source": [
    "# help(str)"
   ]
  },
  {
   "cell_type": "markdown",
   "id": "64",
   "metadata": {},
   "source": [
    "### 5.2 Lists\n",
    "\n",
    "Lists are like strings except the elements can be any type. Lists are defined using square brackets with list elements separated by commas, e.g., as follows,"
   ]
  },
  {
   "cell_type": "code",
   "execution_count": null,
   "id": "65",
   "metadata": {},
   "outputs": [],
   "source": [
    "# A list of integers\n",
    "primes = [2, 3, 5, 7, 11]\n",
    "print(type(primes))"
   ]
  },
  {
   "cell_type": "code",
   "execution_count": null,
   "id": "66",
   "metadata": {},
   "outputs": [],
   "source": [
    "# A list of characters\n",
    "vowels = ['a', 'e', 'i', 'o', 'u']\n",
    "print(type(vowels))"
   ]
  },
  {
   "cell_type": "code",
   "execution_count": null,
   "id": "67",
   "metadata": {},
   "outputs": [],
   "source": [
    "# A list of strings\n",
    "days = ['Mon', 'Tues', 'Weds', 'Thur', 'Fri', 'Sat', 'Sun']\n",
    "print(days)"
   ]
  },
  {
   "cell_type": "code",
   "execution_count": null,
   "id": "68",
   "metadata": {},
   "outputs": [],
   "source": [
    "# A list of mixed types\n",
    "weird = [1, 'Monday', 1.4, False, 4+5j]\n",
    "print(weird)"
   ]
  },
  {
   "cell_type": "markdown",
   "id": "69",
   "metadata": {},
   "source": [
    "List can even contain other lists!"
   ]
  },
  {
   "cell_type": "code",
   "execution_count": null,
   "id": "70",
   "metadata": {},
   "outputs": [],
   "source": [
    "# A list of lists of integers\n",
    "list_of_lists = [[1, 2, 3, 4], [2, 3, 4], [3, 4]]\n",
    "print(list_of_lists)\n",
    "# Print out just the second list\n",
    "print(list_of_lists[1])"
   ]
  },
  {
   "cell_type": "markdown",
   "id": "71",
   "metadata": {},
   "source": [
    "#### 5.2.1 List indexing\n",
    "\n",
    "Index is used to recover a single items or a range of items from a list. The syntax is `list[start:end:step]` where `start` is the index of the first item to be included and `end` is the index of the first item to be excluded, and `step` is the step size.\n",
    "\n",
    "If the 'step' is omitted it defaults to 1. If the 'start' is omitted it defaults to the beginning of the list. If the 'end' is omitted it defaults to the end of the list.\n",
    "\n",
    "This can be made clearer with some examples."
   ]
  },
  {
   "cell_type": "code",
   "execution_count": null,
   "id": "72",
   "metadata": {},
   "outputs": [],
   "source": [
    "days = ['Mon', 'Tues', 'Weds', 'Thur', 'Fri', 'Sat', 'Sun']"
   ]
  },
  {
   "cell_type": "markdown",
   "id": "73",
   "metadata": {},
   "source": [
    "Print just the first element of the list"
   ]
  },
  {
   "cell_type": "code",
   "execution_count": null,
   "id": "74",
   "metadata": {},
   "outputs": [],
   "source": [
    "print(days[0])"
   ]
  },
  {
   "cell_type": "markdown",
   "id": "75",
   "metadata": {},
   "source": [
    "Print the 2nd and 3rd elements of the list"
   ]
  },
  {
   "cell_type": "code",
   "execution_count": null,
   "id": "76",
   "metadata": {},
   "outputs": [],
   "source": [
    "print(days[1:3])"
   ]
  },
  {
   "cell_type": "markdown",
   "id": "77",
   "metadata": {},
   "source": [
    "Print from the 3rd element to the end of the list"
   ]
  },
  {
   "cell_type": "code",
   "execution_count": null,
   "id": "78",
   "metadata": {},
   "outputs": [],
   "source": [
    "print(days[3:])"
   ]
  },
  {
   "cell_type": "markdown",
   "id": "79",
   "metadata": {},
   "source": [
    "Print from the 1st to the 3rd element in the list"
   ]
  },
  {
   "cell_type": "code",
   "execution_count": null,
   "id": "80",
   "metadata": {},
   "outputs": [],
   "source": [
    "print(days[:3])"
   ]
  },
  {
   "cell_type": "markdown",
   "id": "81",
   "metadata": {},
   "source": [
    "Print every second element of the list starting from the 2nd element"
   ]
  },
  {
   "cell_type": "code",
   "execution_count": null,
   "id": "82",
   "metadata": {},
   "outputs": [],
   "source": [
    "print(days[1::2])"
   ]
  },
  {
   "cell_type": "markdown",
   "id": "83",
   "metadata": {},
   "source": [
    "Print every second element of the list stating from the 1st element"
   ]
  },
  {
   "cell_type": "code",
   "execution_count": null,
   "id": "84",
   "metadata": {},
   "outputs": [],
   "source": [
    "print(days[::2])      #  start and end are omitted"
   ]
  },
  {
   "cell_type": "markdown",
   "id": "85",
   "metadata": {},
   "source": [
    "#### 5.2.2 List operations\n",
    "\n",
    "The list class has a large number of methods that can be applied to list objects. The most common of this are `append`, `count`, `extend`, `index`, `insert`, `pop`, `remove`, `reverse`, and `sort`. You can read the documentation for the list class to see exactly how these methods work, but most are self-explanatory and the examples below should give you a good idea of how they are used."
   ]
  },
  {
   "cell_type": "code",
   "execution_count": null,
   "id": "86",
   "metadata": {},
   "outputs": [],
   "source": [
    "# Reverse the order of the elements in a list\n",
    "days = ['Mon', 'Tues', 'Weds', 'Thur', 'Fri', 'Sat', 'Sun']\n",
    "days.reverse()\n",
    "print(days)"
   ]
  },
  {
   "cell_type": "code",
   "execution_count": null,
   "id": "87",
   "metadata": {},
   "outputs": [],
   "source": [
    "# Sort the elements in a list into order (numeric or alphabetical)\n",
    "days = ['Mon', 'Tues', 'Weds', 'Thur', 'Fri', 'Sat', 'Sun']\n",
    "days.sort()\n",
    "print(days)"
   ]
  },
  {
   "cell_type": "code",
   "execution_count": null,
   "id": "88",
   "metadata": {},
   "outputs": [],
   "source": [
    "# Extend a list by adding items from another list\n",
    "x = [1, 2, 3, 4]\n",
    "x.extend([5, 6, 7])\n",
    "print(x)"
   ]
  },
  {
   "cell_type": "code",
   "execution_count": null,
   "id": "89",
   "metadata": {},
   "outputs": [],
   "source": [
    "# Count the occurrences of an element in a list\n",
    "x = list('Let us go then, you and I')\n",
    "print(x.count('e'))\n",
    "print(x.count(' '))"
   ]
  },
  {
   "cell_type": "code",
   "execution_count": null,
   "id": "90",
   "metadata": {},
   "outputs": [],
   "source": [
    "# Report the index of the first occurrence of an item\n",
    "x = [1, 5, 3, 3, 4 ]\n",
    "print(x.index(5))"
   ]
  },
  {
   "cell_type": "code",
   "execution_count": null,
   "id": "91",
   "metadata": {},
   "outputs": [],
   "source": [
    "# Append a single value to the end of a list\n",
    "x = [1, 2, 3, 4, 5]\n",
    "x.append(6)\n",
    "print(x)"
   ]
  },
  {
   "cell_type": "code",
   "execution_count": null,
   "id": "92",
   "metadata": {},
   "outputs": [],
   "source": [
    "# Remove and return the last value from a list\n",
    "x = [1, 2, 3, 4, 5]\n",
    "last_value = x.pop()\n",
    "print(x)\n",
    "print(last_value)"
   ]
  },
  {
   "cell_type": "code",
   "execution_count": null,
   "id": "93",
   "metadata": {},
   "outputs": [],
   "source": [
    "# Insert a value into a list at a given position\n",
    "x = [1, 2, 3, 4, 5]\n",
    "x.insert(3, 999)  # insert 999 after the 3rd item\n",
    "print(x)"
   ]
  },
  {
   "cell_type": "markdown",
   "id": "94",
   "metadata": {},
   "source": [
    "### 5.3 Tuples\n",
    "\n",
    "Tuples are immutable lists. 'Immutable' means something whose value cannot be modified once it has been created.\n",
    "\n",
    "They are created using a similar syntax to lists, except using round brackets '()' rather than square ones '[]', i.e.,"
   ]
  },
  {
   "cell_type": "code",
   "execution_count": null,
   "id": "95",
   "metadata": {},
   "outputs": [],
   "source": [
    "x = (1, 2)   # note () for tuple and [] for lists\n",
    "print(type(x))"
   ]
  },
  {
   "cell_type": "code",
   "execution_count": null,
   "id": "96",
   "metadata": {},
   "outputs": [],
   "source": [
    "x = 1, 2    # the brackets are not strictly necessary\n",
    "print(type(x))"
   ]
  },
  {
   "cell_type": "markdown",
   "id": "97",
   "metadata": {},
   "source": [
    "Values can be retrieved using the same indexing notation, i.e. using square brackets. e.g., to construct a tuple with two values and then to retrieve the first value, we would write,"
   ]
  },
  {
   "cell_type": "code",
   "execution_count": null,
   "id": "98",
   "metadata": {},
   "outputs": [],
   "source": [
    "x = (1, 2)\n",
    "print(x[0])"
   ]
  },
  {
   "cell_type": "markdown",
   "id": "99",
   "metadata": {},
   "source": [
    "If you try to change a tuple after is has been constructed, you will receive an error, e.g.,"
   ]
  },
  {
   "cell_type": "code",
   "execution_count": null,
   "id": "100",
   "metadata": {
    "tags": [
     "raises-exception"
    ]
   },
   "outputs": [],
   "source": [
    "x = (1, 2)\n",
    "x[0] = 5   # Remember, tuples are immutable!"
   ]
  },
  {
   "cell_type": "markdown",
   "id": "101",
   "metadata": {},
   "source": [
    "#### 5.3.1  Working with tuples\n",
    "\n",
    "Tuples can be compared to see if they are identical,"
   ]
  },
  {
   "cell_type": "code",
   "execution_count": null,
   "id": "102",
   "metadata": {},
   "outputs": [],
   "source": [
    "pos1 = (10, 20, 30)\n",
    "pos2 = (10, 25, 30)\n",
    "pos1 == pos2    # true iff all elements equal"
   ]
  },
  {
   "cell_type": "markdown",
   "id": "103",
   "metadata": {},
   "source": [
    "A tuple that has been stored in a variable can be `unpacked' into separate variables as follows"
   ]
  },
  {
   "cell_type": "code",
   "execution_count": null,
   "id": "104",
   "metadata": {},
   "outputs": [],
   "source": [
    "pos = (10, 20, 30)  # make a tuple called 'pos'\n",
    "(x, y, z) = pos   # 'unpack' the tuple into separate variables\n",
    "print(x)"
   ]
  },
  {
   "cell_type": "markdown",
   "id": "105",
   "metadata": {},
   "source": [
    "Tuple unpacking gives us a compact way to swap the value of two variables."
   ]
  },
  {
   "cell_type": "code",
   "execution_count": null,
   "id": "106",
   "metadata": {},
   "outputs": [],
   "source": [
    "x, y = 10, 15\n",
    "x, y = y, x    # Can swap variables with a single line!\n",
    "print(x, y)"
   ]
  },
  {
   "cell_type": "markdown",
   "id": "107",
   "metadata": {},
   "source": [
    "This isn't needed very often but it is a useful trick to know.\n",
    "\n",
    "### 5.4 Sets\n",
    "\n",
    "A set is like a list in which every item is unique.\n",
    "\n",
    "A set can be defined by listing items inside curly braces, e.g."
   ]
  },
  {
   "cell_type": "code",
   "execution_count": null,
   "id": "108",
   "metadata": {},
   "outputs": [],
   "source": [
    "x = {10, 20, 30, 40}\n",
    "print(type(x))"
   ]
  },
  {
   "cell_type": "markdown",
   "id": "109",
   "metadata": {},
   "source": [
    "What happens if we try to store duplicated items in a set?"
   ]
  },
  {
   "cell_type": "code",
   "execution_count": null,
   "id": "110",
   "metadata": {},
   "outputs": [],
   "source": [
    "x = {1, 2, 3, 4, 3, 2, 1, 2}\n",
    "print(x)"
   ]
  },
  {
   "cell_type": "markdown",
   "id": "111",
   "metadata": {},
   "source": [
    "You will see above that even though multiple copies of several of the integers were present between the curly braces, the set only stored a single copy of each.\n",
    "\n",
    "Set supports all the usual set operations."
   ]
  },
  {
   "cell_type": "code",
   "execution_count": null,
   "id": "112",
   "metadata": {},
   "outputs": [],
   "source": [
    "print({1,2,3,7,8, 9}.intersection({1,3,6,7,10}))\n",
    "print({1,2,3,7,8, 9}.union({1,3,6,7,10}))\n",
    "print({1,2,3,7,8, 9}.difference({1,3,6,7,10}))"
   ]
  },
  {
   "cell_type": "markdown",
   "id": "113",
   "metadata": {},
   "source": [
    "These operations can also be performed using arithmetic operator symbols, i.e."
   ]
  },
  {
   "cell_type": "code",
   "execution_count": null,
   "id": "114",
   "metadata": {},
   "outputs": [],
   "source": [
    "print({1,2,3,7,8, 9} & {1,3,6,7,10})  # intersection\n",
    "print({1,2,3,7,8, 9} | {1,3,6,7,10})  # union\n",
    "print({1,2,3,7,8, 9} - {1,3,6,7,10}) # difference"
   ]
  },
  {
   "cell_type": "code",
   "execution_count": null,
   "id": "115",
   "metadata": {},
   "outputs": [],
   "source": [
    "# Full documentation -- remove the '#' in the line below before running this cell.\n",
    "# help(set)"
   ]
  },
  {
   "cell_type": "markdown",
   "id": "116",
   "metadata": {},
   "source": [
    "### 5.5 Dictionaries\n",
    "\n",
    "A dictionary maps from a unique key to a value"
   ]
  },
  {
   "cell_type": "code",
   "execution_count": null,
   "id": "117",
   "metadata": {},
   "outputs": [],
   "source": [
    "office = {'jon': 123, 'jane':146, 'fred':245}"
   ]
  },
  {
   "cell_type": "code",
   "execution_count": null,
   "id": "118",
   "metadata": {},
   "outputs": [],
   "source": [
    "office = {'jon': 123, 'jane':146, 'fred':245}\n",
    "print(type(office))"
   ]
  },
  {
   "cell_type": "code",
   "execution_count": null,
   "id": "119",
   "metadata": {},
   "outputs": [],
   "source": [
    "office = {'jon': 123, 'jane':146, 'fred':245}\n",
    "print(office['jon'])   # look up a value for a given key"
   ]
  },
  {
   "cell_type": "code",
   "execution_count": null,
   "id": "120",
   "metadata": {
    "tags": [
     "raises-exception"
    ]
   },
   "outputs": [],
   "source": [
    "office = {'jon': 123, 'jane':146, 'fred':245}\n",
    "print(office['jose'])  # throws exception if key doesn't exist"
   ]
  },
  {
   "cell_type": "markdown",
   "id": "121",
   "metadata": {},
   "source": [
    "We need to make sure that our keys are unique. e.g. a problem if we have two people called 'jon'!"
   ]
  },
  {
   "cell_type": "code",
   "execution_count": null,
   "id": "122",
   "metadata": {},
   "outputs": [],
   "source": [
    "office = {'jon': 123, 'jane':146, 'fred':245, 'jon': 354}\n",
    "print(office)"
   ]
  },
  {
   "cell_type": "markdown",
   "id": "123",
   "metadata": {},
   "source": [
    "The later entry has overwritten the earlier one (You might have expected it to raise a run-time error).\n",
    "\n",
    "A better key would be a unique employee ID, e.g. the payroll number.\n",
    "\n",
    "#### 5.5.1 Operations with dictionaries"
   ]
  },
  {
   "cell_type": "code",
   "execution_count": null,
   "id": "124",
   "metadata": {},
   "outputs": [],
   "source": [
    "office = {'jon': 123, 'jane':146, 'fred':245, 'jon': 354}\n",
    "office['jose'] = 282  # add a new key-value pair\n",
    "print(office)"
   ]
  },
  {
   "cell_type": "code",
   "execution_count": null,
   "id": "125",
   "metadata": {},
   "outputs": [],
   "source": [
    "print(office.keys())   # return the list of keys"
   ]
  },
  {
   "cell_type": "code",
   "execution_count": null,
   "id": "126",
   "metadata": {},
   "outputs": [],
   "source": [
    "print(office.values()) # return the list of values"
   ]
  },
  {
   "cell_type": "code",
   "execution_count": null,
   "id": "127",
   "metadata": {},
   "outputs": [],
   "source": [
    "print('jon' in office)  # check if a key exists"
   ]
  },
  {
   "cell_type": "markdown",
   "id": "128",
   "metadata": {},
   "source": [
    "## 6 Control Flow\n",
    "\n",
    "To write programs with Python (as in any language), we have to use logic to control the flow of instructions. Python has several syntax elements for controlling flow, including,\n",
    "\n",
    "* **if-elif-else**\n",
    "* **for loops**\n",
    "* **while loops**\n",
    "\n",
    "### 6.1 if-elif-else"
   ]
  },
  {
   "cell_type": "code",
   "execution_count": null,
   "id": "129",
   "metadata": {},
   "outputs": [],
   "source": [
    "x = 20\n",
    "if x > 10:\n",
    "    print(str(x) + ' is larger than 10')  # Must be indented!\n",
    "else:\n",
    "    print(str(x) + ' is smaller than 10')"
   ]
  },
  {
   "cell_type": "code",
   "execution_count": null,
   "id": "130",
   "metadata": {},
   "outputs": [],
   "source": [
    "grade = 75\n",
    "if grade >= 70:\n",
    "    print('Distinction') # Note, lines share the same indentation\n",
    "    print('well done!')\n",
    "elif grade >= 50:\n",
    "    print('you have passed')\n",
    "else:\n",
    "    print('FAIL!')"
   ]
  },
  {
   "cell_type": "markdown",
   "id": "131",
   "metadata": {},
   "source": [
    "### 6.2 For loops\n",
    "\n",
    "For-loops iterate over 'iterables' (lists, dictionaries,...)"
   ]
  },
  {
   "cell_type": "code",
   "execution_count": null,
   "id": "132",
   "metadata": {},
   "outputs": [],
   "source": [
    "sum = 0\n",
    "for x in [1, 2, 3, 4, 5]:\n",
    "    sum += x\n",
    "print(sum)"
   ]
  },
  {
   "cell_type": "code",
   "execution_count": null,
   "id": "133",
   "metadata": {},
   "outputs": [],
   "source": [
    "week = ['mon', 'tuesday', 'weds', 'thur', 'fri']\n",
    "for day in week:\n",
    "    print(day.center(20,' '))"
   ]
  },
  {
   "cell_type": "markdown",
   "id": "134",
   "metadata": {},
   "source": [
    "To loop over integer values we can generate a list using range()"
   ]
  },
  {
   "cell_type": "code",
   "execution_count": null,
   "id": "135",
   "metadata": {},
   "outputs": [],
   "source": [
    "my_range = range(10)\n",
    "print(list(my_range))    # range() generates a list of numbers"
   ]
  },
  {
   "cell_type": "code",
   "execution_count": null,
   "id": "136",
   "metadata": {},
   "outputs": [],
   "source": [
    "print(list(range(5, 25, 2)))  # range(start, end, skip)"
   ]
  },
  {
   "cell_type": "code",
   "execution_count": null,
   "id": "137",
   "metadata": {},
   "outputs": [],
   "source": [
    "for x in range(0, 50, 5):\n",
    "    print(x)"
   ]
  },
  {
   "cell_type": "markdown",
   "id": "138",
   "metadata": {},
   "source": [
    "### 6.3 While loops\n",
    "\n",
    "While loops are much as you would expect. But note, no 'while - until loop'"
   ]
  },
  {
   "cell_type": "code",
   "execution_count": null,
   "id": "139",
   "metadata": {},
   "outputs": [],
   "source": [
    "x = 127\n",
    "output = []\n",
    "while x != 1:\n",
    "    if x % 2 == 0:\n",
    "        x /= 2  # if x is even\n",
    "    else:\n",
    "        x = x * 3 + 1  # if x is odd\n",
    "    output.append(x)\n",
    "print(output)"
   ]
  },
  {
   "cell_type": "markdown",
   "id": "140",
   "metadata": {},
   "source": [
    "## 7 Functions\n",
    "\n",
    "Functions are introduced with the keyword `def`\n",
    "\n",
    "Neither parameters nor return values need type declarations.\n",
    "\n",
    "Function body must be indented."
   ]
  },
  {
   "cell_type": "code",
   "execution_count": null,
   "id": "141",
   "metadata": {},
   "outputs": [],
   "source": [
    "def sum_list(data):\n",
    "    sum = 0\n",
    "    for x in data:\n",
    "        sum += x\n",
    "    return sum"
   ]
  },
  {
   "cell_type": "code",
   "execution_count": null,
   "id": "142",
   "metadata": {},
   "outputs": [],
   "source": [
    "sum = sum_list([1,2,3,4,5])\n",
    "print(sum)"
   ]
  },
  {
   "cell_type": "markdown",
   "id": "143",
   "metadata": {},
   "source": [
    "### 7.1 Function docstring\n",
    "\n",
    "A string can be added directly after the function definition to act as documentation. You should always do this!"
   ]
  },
  {
   "cell_type": "code",
   "execution_count": null,
   "id": "144",
   "metadata": {},
   "outputs": [],
   "source": [
    "def sum_list(data):\n",
    "    \"\"\" Returns the sum of a list of numbers.\"\"\"\n",
    "    sum = 0\n",
    "    # sum the numbers\n",
    "    for x in data:\n",
    "        sum += x\n",
    "    return sum"
   ]
  },
  {
   "cell_type": "code",
   "execution_count": null,
   "id": "145",
   "metadata": {},
   "outputs": [],
   "source": [
    "help(sum_list)"
   ]
  },
  {
   "cell_type": "markdown",
   "id": "146",
   "metadata": {},
   "source": [
    "Note, triple-quoted strings can contain newlines and quotes.\n",
    "\n",
    "### 7.2 Multiple return values\n",
    "\n",
    "If a function needs to return multiple values they can simply be packed into a tuple"
   ]
  },
  {
   "cell_type": "code",
   "execution_count": null,
   "id": "147",
   "metadata": {},
   "outputs": [],
   "source": [
    "def find_min_max(data):\n",
    "    \"\"\"Return min and max value in a list\"\"\"\n",
    "    min, max = data[0], data[0]\n",
    "    for x in data:\n",
    "        if x < min:\n",
    "            min = x\n",
    "        elif x > max:\n",
    "            max = x\n",
    "    return min, max"
   ]
  },
  {
   "cell_type": "code",
   "execution_count": null,
   "id": "148",
   "metadata": {},
   "outputs": [],
   "source": [
    "min, max = find_min_max([1,4,3,6,-5,6])\n",
    "print('smallest is', min, 'and largest is', max)"
   ]
  },
  {
   "cell_type": "markdown",
   "id": "149",
   "metadata": {},
   "source": [
    "### 7.3 Functions: Default parameter values\n",
    "\n",
    "Parameters can be given default values"
   ]
  },
  {
   "cell_type": "code",
   "execution_count": null,
   "id": "150",
   "metadata": {},
   "outputs": [],
   "source": [
    "def sum_list(data, debug=False):\n",
    "    \"\"\"Returns the sum of a list of numbers\"\"\"\n",
    "    if debug:\n",
    "        print('Calling sum_list with', data)\n",
    "    sum = 0\n",
    "    for x in data:\n",
    "        sum += x\n",
    "    return sum"
   ]
  },
  {
   "cell_type": "code",
   "execution_count": null,
   "id": "151",
   "metadata": {},
   "outputs": [],
   "source": [
    "print(sum_list(range(5)))"
   ]
  },
  {
   "cell_type": "code",
   "execution_count": null,
   "id": "152",
   "metadata": {},
   "outputs": [],
   "source": [
    "print(sum_list(range(5), True))"
   ]
  },
  {
   "cell_type": "markdown",
   "id": "153",
   "metadata": {},
   "source": [
    "### 7.4 Functions: Named parameters\n",
    "\n",
    "Parameter can be explicitly named in the function call"
   ]
  },
  {
   "cell_type": "code",
   "execution_count": null,
   "id": "154",
   "metadata": {},
   "outputs": [],
   "source": [
    "def compute_ratio(num, denom):\n",
    "    return num/denom"
   ]
  },
  {
   "cell_type": "code",
   "execution_count": null,
   "id": "155",
   "metadata": {},
   "outputs": [],
   "source": [
    "ratio = compute_ratio(10.0, 2.0)\n",
    "print(ratio)"
   ]
  },
  {
   "cell_type": "code",
   "execution_count": null,
   "id": "156",
   "metadata": {},
   "outputs": [],
   "source": [
    "ratio = compute_ratio(num=10.0, denom=2.0)\n",
    "print(ratio)"
   ]
  },
  {
   "cell_type": "code",
   "execution_count": null,
   "id": "157",
   "metadata": {},
   "outputs": [],
   "source": [
    "ratio = compute_ratio(denom=2, num=10)\n",
    "print(ratio)"
   ]
  },
  {
   "cell_type": "markdown",
   "id": "158",
   "metadata": {},
   "source": [
    "### 7.5 Function: named and default parameters\n",
    "\n",
    "Default and named parameters can be conveniently combined.\n",
    "\n",
    "This is useful when there are a large number of parameters but most have default values. e.g.,"
   ]
  },
  {
   "cell_type": "code",
   "execution_count": null,
   "id": "159",
   "metadata": {},
   "outputs": [],
   "source": [
    "def dummy(p1=0.0, p2=0.0, p3=0.0, p4=0.0):\n",
    "    print(p1, p2, p3, p4)"
   ]
  },
  {
   "cell_type": "code",
   "execution_count": null,
   "id": "160",
   "metadata": {},
   "outputs": [],
   "source": [
    "dummy(p3=1.0)"
   ]
  },
  {
   "cell_type": "code",
   "execution_count": null,
   "id": "161",
   "metadata": {},
   "outputs": [],
   "source": [
    "dummy(p1=10.0, p4=2.0)"
   ]
  },
  {
   "cell_type": "markdown",
   "id": "162",
   "metadata": {},
   "source": [
    "## 8 Summary\n",
    "\n",
    "* Python is a dynamically typed language\n",
    "* It has extensive libraries loaded as modules\n",
    "* It has builtin compound types: str, list, tuple, dict\n",
    "* Supports standard flow control mechanisms: if-else, for, while\n",
    "* We can define functions with default and named parameters\n",
    "\n",
    "There are many important features that we have not yet covered which will be introduced in later lectures:\n",
    "\n",
    "* classes\n",
    "* list comprehensions\n",
    "* lambda functions and functions as objects\n",
    "* numpy library\n",
    "\n",
    "*Copyright © 2023–2025 Jon Barker, University of Sheffield. All rights reserved.*"
   ]
  }
 ],
 "metadata": {
  "jupytext": {
   "cell_metadata_filter": "-all"
  },
  "kernelspec": {
   "display_name": "Python 3 (ipykernel)",
   "language": "python",
   "name": "python3"
  },
  "language_info": {
   "codemirror_mode": {
    "name": "ipython",
    "version": 3
   },
   "file_extension": ".py",
   "mimetype": "text/x-python",
   "name": "python",
   "nbconvert_exporter": "python",
   "pygments_lexer": "ipython3",
   "version": "3.12.5"
  }
 },
 "nbformat": 4,
 "nbformat_minor": 5
}
