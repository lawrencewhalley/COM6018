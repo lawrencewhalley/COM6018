{
 "cells": [
  {
   "cell_type": "markdown",
   "id": "0",
   "metadata": {},
   "source": [
    "# 015 Further Python\n",
    "\n",
    "> COM6018\n",
    "\n",
    "*Copyright © 2023–2025 Jon Barker, University of Sheffield. All rights reserved.*\n",
    "\n",
    "\n",
    "## 1. List Comprehensions\n",
    "\n",
    "A **list comprehension** is a compact syntactical construct for performing efficient list processing.\n",
    "\n",
    "Consider the code below for making a list of the squared values of the numbers 1 to 10"
   ]
  },
  {
   "cell_type": "code",
   "execution_count": null,
   "id": "1",
   "metadata": {},
   "outputs": [],
   "source": [
    "squared_values = []\n",
    "for x in range(1, 11):\n",
    "    squared_values.append(x**2)\n",
    "print(squared_values)"
   ]
  },
  {
   "cell_type": "markdown",
   "id": "2",
   "metadata": {},
   "source": [
    "This can be written more compactly using a list comprehension, as follows,"
   ]
  },
  {
   "cell_type": "code",
   "execution_count": null,
   "id": "3",
   "metadata": {},
   "outputs": [],
   "source": [
    "squared_values = [x**2 for x in range(1, 11)]\n",
    "print(squared_values)"
   ]
  },
  {
   "cell_type": "markdown",
   "id": "4",
   "metadata": {},
   "source": [
    "There are several advantages to using list comprehensions over the standard `for` loop approach. The list comprehension version has fewer lines and therefore there are fewer opportunities for the programmer to make an error. It is also more efficient, i.e., it will run a little faster. Finally, although it might seem a little harder to read at first, this is mostly due to unfamiliarity. With experience you will find that its compactness makes it easier to see the overall structure of the code.\n",
    "\n",
    "List comprehensions can also be used to filter the elements in a list. This is done using an `if` term. For example, if using a `for` loop, selecting and squaring values greater than 5 would be written as,"
   ]
  },
  {
   "cell_type": "code",
   "execution_count": null,
   "id": "5",
   "metadata": {},
   "outputs": [],
   "source": [
    "my_list = [1, 7, 4, 10, 12, 3, 4, 9]\n",
    "new_list = []\n",
    "for x in my_list:\n",
    "    if x > 5:\n",
    "        new_list.append(x)\n",
    "print(new_list)"
   ]
  },
  {
   "cell_type": "markdown",
   "id": "6",
   "metadata": {},
   "source": [
    "Using a list comprehension, this can be written in a single line,"
   ]
  },
  {
   "cell_type": "code",
   "execution_count": null,
   "id": "7",
   "metadata": {},
   "outputs": [],
   "source": [
    "my_list = [1, 7, 4, 10, 12, 3, 4, 9]\n",
    "new_list = [x for x in my_list if x > 5]\n",
    "print(new_list)"
   ]
  },
  {
   "cell_type": "markdown",
   "id": "8",
   "metadata": {},
   "source": [
    "Or for finding the even values in a list,"
   ]
  },
  {
   "cell_type": "code",
   "execution_count": null,
   "id": "9",
   "metadata": {},
   "outputs": [],
   "source": [
    "my_list = [1, 7, 4, 10, 12, 3, 4, 9]\n",
    "even_values = [x for x in my_list if x % 2 == 0]\n",
    "print(even_values)"
   ]
  },
  {
   "cell_type": "markdown",
   "id": "10",
   "metadata": {},
   "source": [
    "If we wanted to construct the square of all the numbers greater than 5 we would use,"
   ]
  },
  {
   "cell_type": "code",
   "execution_count": null,
   "id": "11",
   "metadata": {},
   "outputs": [],
   "source": [
    "my_list = [1, 7, 4, 10, 12, 3, 4, 9]\n",
    "new_list = [x**2 for x in my_list if x > 5]\n",
    "print(new_list)"
   ]
  },
  {
   "cell_type": "markdown",
   "id": "12",
   "metadata": {},
   "source": [
    "Remember, in Python, a string is a list of characters, so strings can also be processed with list comprehensions"
   ]
  },
  {
   "cell_type": "code",
   "execution_count": null,
   "id": "13",
   "metadata": {},
   "outputs": [],
   "source": [
    "my_string = \"The quick brown fox jumps over the lazy dog\"\n",
    "consonants = [x for x in my_string if x not in \"aeiou \"]\n",
    "print(consonants)"
   ]
  },
  {
   "cell_type": "code",
   "execution_count": null,
   "id": "14",
   "metadata": {},
   "outputs": [],
   "source": [
    "my_string = \"The quick brown fox jumps over the lazy dog\"\n",
    "upper = [x.upper() for x in my_string]\n",
    "print(upper)"
   ]
  },
  {
   "cell_type": "markdown",
   "id": "15",
   "metadata": {},
   "source": [
    "List comprehensions can also be nested,"
   ]
  },
  {
   "cell_type": "code",
   "execution_count": null,
   "id": "16",
   "metadata": {},
   "outputs": [],
   "source": [
    "new_list = [(x, y, x * y) for x in range(4) for y in range(4)]\n",
    "print(new_list)"
   ]
  },
  {
   "cell_type": "markdown",
   "id": "17",
   "metadata": {},
   "source": [
    "List comprehensions are not only more compact, they also run a little bit faster than the standard loop based approach, compare"
   ]
  },
  {
   "cell_type": "code",
   "execution_count": null,
   "id": "18",
   "metadata": {},
   "outputs": [],
   "source": [
    "def proc1():\n",
    "    my_list = []\n",
    "    for x in range(1000000):\n",
    "        my_list.append(x * x)\n",
    "\n",
    "\n",
    "import timeit\n",
    "print(timeit.Timer(proc1).timeit(number=1))"
   ]
  },
  {
   "cell_type": "code",
   "execution_count": null,
   "id": "19",
   "metadata": {},
   "outputs": [],
   "source": [
    "def proc2():\n",
    "    my_list = [x * x for x in range(1000000)]\n",
    "\n",
    "\n",
    "import timeit\n",
    "print(timeit.Timer(proc2).timeit(number=1))"
   ]
  },
  {
   "cell_type": "markdown",
   "id": "20",
   "metadata": {},
   "source": [
    "On my machine the first approach has a run time of **117 ms** whereas the list comprehension takes **88 ms**, i.e., a decrease of 25%.\n",
    "\n",
    "In general, if you have a function that generates a list, or which processes a list to generate a new list, always look first to see if it can be written as a list comprehension. For loops with small bodies are often best written as list comprehensions. Sometimes a for loop with a large body can be broken down into a sequence of list comprehensions. However, some judgement is required here. Nested list comprehensions that perform complex operations can be hard to read and should be avoided.\n",
    "\n",
    "Note, list comprehensions generate lists. There is a similar syntax for generating sets and dictionaries, ie. set and dictionary comprehensions."
   ]
  },
  {
   "cell_type": "code",
   "execution_count": null,
   "id": "21",
   "metadata": {},
   "outputs": [],
   "source": [
    "# Modulus 3 for numbers 1 to 10\n",
    "my_list = [x % 3 for x in range(1, 11)]\n",
    "my_set = {x % 3 for x in range(1, 11)}\n",
    "my_dictionary = {x: x % 3 for x in range(1, 11)}\n",
    "print(my_list)\n",
    "print(my_set)\n",
    "print(my_dictionary)"
   ]
  },
  {
   "cell_type": "markdown",
   "id": "22",
   "metadata": {},
   "source": [
    "## 2. The `enumerate` function\n",
    "\n",
    "`enumerate` is a builtin generator function that turns a list into a list of tuples such that the first element of each tuple is a list index, i..e., it adds an index to elements of a list. This sounds quite obscure but it is often very useful. It allows us to rewrite some very common *for*-loop idioms in a more compact form. Examples will make this clear.\n",
    "\n",
    "For example consider the bit of code below,"
   ]
  },
  {
   "cell_type": "code",
   "execution_count": null,
   "id": "23",
   "metadata": {},
   "outputs": [],
   "source": [
    "index = 0\n",
    "for x in \"ABCDEFG\":\n",
    "    print((index, x))\n",
    "    index += 1"
   ]
  },
  {
   "cell_type": "markdown",
   "id": "24",
   "metadata": {},
   "source": [
    "Using enumerate this can be written far more easily as,"
   ]
  },
  {
   "cell_type": "code",
   "execution_count": null,
   "id": "25",
   "metadata": {},
   "outputs": [],
   "source": [
    "for x in enumerate(\"ABCDEFG\"):\n",
    "    print(x)"
   ]
  },
  {
   "cell_type": "markdown",
   "id": "26",
   "metadata": {},
   "source": [
    "If you want the index and the list element as separate variables then that is easy too,"
   ]
  },
  {
   "cell_type": "code",
   "execution_count": null,
   "id": "27",
   "metadata": {},
   "outputs": [],
   "source": [
    "# Print 1 'A' followed by 2 'B's followed by 3 'C's etc\n",
    "for index, x in enumerate(\"ABCDEFG\"):\n",
    "    print(x * (index + 1))"
   ]
  },
  {
   "cell_type": "markdown",
   "id": "28",
   "metadata": {},
   "source": [
    "## 3. Passing functions as parameters to other functions\n",
    "\n",
    "Python functions can be stored in variables and passed as parameters to other functions. This allows us to use some very powerful programming techniques.\n",
    "\n",
    "For example, below we have a function called `tabulate` which tabulates the values of an arbitrary function. The function to be tabulated is passed as the first parameter. We also written functions called `square`, `cube` and `times7`. We can now pass any of these functions to the `tabulate` function,"
   ]
  },
  {
   "cell_type": "code",
   "execution_count": null,
   "id": "29",
   "metadata": {},
   "outputs": [],
   "source": [
    "def tabulate(f, a, b):\n",
    "    \"\"\"Tabulate the function f between integer values a and b\"\"\"\n",
    "    for i in range(a, b + 1):\n",
    "        fi = f(i)\n",
    "        print(\n",
    "            f\"f({i}) = {fi}\"\n",
    "        )  # An 'fstring' - a string which embeds formatted variables\n",
    "\n",
    "\n",
    "def square(x):\n",
    "    return x * x\n",
    "\n",
    "\n",
    "def cube(x):\n",
    "    return x * x * x\n",
    "\n",
    "\n",
    "def times7(x):\n",
    "    return 7 * x"
   ]
  },
  {
   "cell_type": "code",
   "execution_count": null,
   "id": "30",
   "metadata": {},
   "outputs": [],
   "source": [
    "print(\"cubes from 10 to 20\")\n",
    "tabulate(cube, 10, 20)\n",
    "print(\"The seven times table\")\n",
    "tabulate(times7, 1, 12)"
   ]
  },
  {
   "cell_type": "markdown",
   "id": "31",
   "metadata": {},
   "source": [
    "Note, we could also store the function we wish to tabulate in a variable, say `f`, and then pass `f` to the `tabulate` function,"
   ]
  },
  {
   "cell_type": "code",
   "execution_count": null,
   "id": "32",
   "metadata": {},
   "outputs": [],
   "source": [
    "f = cube\n",
    "tabulate(f, 10, 20)"
   ]
  },
  {
   "cell_type": "markdown",
   "id": "33",
   "metadata": {},
   "source": [
    "Functions behave just like any other type and can therefore be stored in lists, tuples, dictionaries, etc. For example, in the the cell below, the *for*-loop is iterating over a sequence of functions stored in a tuple,"
   ]
  },
  {
   "cell_type": "code",
   "execution_count": null,
   "id": "34",
   "metadata": {},
   "outputs": [],
   "source": [
    "for f in square, cube, times7:\n",
    "    print(f)\n",
    "    tabulate(f, 1, 5)"
   ]
  },
  {
   "cell_type": "markdown",
   "id": "35",
   "metadata": {},
   "source": [
    "## 4. Inner functions\n",
    "\n",
    "A function can be defined inside another function. These functions are called **inner functions**. An inner function will not be visible from outside the outer function in which it has been defined. This can be useful for hiding helper functions that are only used inside the outer function and which we don't want to be used more widely.\n",
    "\n",
    "For example,"
   ]
  },
  {
   "cell_type": "code",
   "execution_count": null,
   "id": "36",
   "metadata": {},
   "outputs": [],
   "source": [
    "def display_square(x):  # outer function\n",
    "    def square(x):  # inner function\n",
    "        return x * x\n",
    "\n",
    "    xx = square(x)\n",
    "    print(\"The square of\", x, \"is\", xx)\n",
    "\n",
    "\n",
    "display_square(10)"
   ]
  },
  {
   "cell_type": "markdown",
   "id": "37",
   "metadata": {},
   "source": [
    "Beginners often over-used inner functions when they find out about them. The uses cases for them are actually quite specialised and they have the downside of making code harder to read because of the additional nesting. They should be used sparingly.\n",
    "\n",
    "There is a  good discussion of the use cases for inner functions here <https://realpython.com/inner-functions-what-are-they-good-for/>, which includes the following example,"
   ]
  },
  {
   "cell_type": "code",
   "execution_count": null,
   "id": "38",
   "metadata": {},
   "outputs": [],
   "source": [
    "def factorial(number):\n",
    "\n",
    "    # Error handling\n",
    "    if not isinstance(number, int):\n",
    "        raise TypeError(\"Sorry. 'number' must be an integer.\")\n",
    "    if not number >= 0:\n",
    "        raise ValueError(\"Sorry. 'number' must be zero or positive.\")\n",
    "\n",
    "    def inner_factorial(number):\n",
    "        if number <= 1:\n",
    "            return 1\n",
    "        return number * inner_factorial(number - 1)\n",
    "\n",
    "    return inner_factorial(number)"
   ]
  },
  {
   "cell_type": "markdown",
   "id": "39",
   "metadata": {},
   "source": [
    "Call the outer function"
   ]
  },
  {
   "cell_type": "code",
   "execution_count": null,
   "id": "40",
   "metadata": {},
   "outputs": [],
   "source": [
    "print(factorial(4))"
   ]
  },
  {
   "cell_type": "markdown",
   "id": "41",
   "metadata": {},
   "source": [
    "See how the error checking reports an error if the user tries to compute the factorial of a negative integer"
   ]
  },
  {
   "cell_type": "code",
   "execution_count": null,
   "id": "42",
   "metadata": {
    "tags": [
     "raises-exception"
    ]
   },
   "outputs": [],
   "source": [
    "print(factorial(-4))"
   ]
  },
  {
   "cell_type": "markdown",
   "id": "43",
   "metadata": {},
   "source": [
    "The advantage of using an inner function here is that the argument checking is performed once in the outer function and can then be safely skipped in the inner function.\n",
    "\n",
    "Note, inner functions inherit the scope of the outer function, i.e., variables declared in the outer function will be visible to the inner function even if they are not passed as parameters."
   ]
  },
  {
   "cell_type": "code",
   "execution_count": null,
   "id": "44",
   "metadata": {},
   "outputs": [],
   "source": [
    "def outer(a):\n",
    "    b = 20\n",
    "\n",
    "    def inner(c):\n",
    "        # c has been passed as a parameter, a and b are seen from the outer scope\n",
    "        print(a, b, c)\n",
    "\n",
    "    inner(30)\n",
    "\n",
    "\n",
    "outer(10)"
   ]
  },
  {
   "cell_type": "markdown",
   "id": "45",
   "metadata": {},
   "source": [
    "This is very convenient but can also be a source of bugs if you are not careful.\n",
    "\n",
    "## 5. Lambda functions\n",
    "\n",
    "A **lambda function** is a function that is defined without a name. They are also called **anonymous functions**. They are useful for writing short functions that are only used once. They are often used as parameters to other functions.\n",
    "\n",
    "For example, consider the `tabulate` function defined above. Say we wanted to tabulate the function $x^2 + 2 x + 10$. We could do this by first defining a function and then passing that function to `tabulate``, as follows"
   ]
  },
  {
   "cell_type": "code",
   "execution_count": null,
   "id": "46",
   "metadata": {},
   "outputs": [],
   "source": [
    "def my_function(x):\n",
    "    return x * x + 2 * x + 10\n",
    "\n",
    "tabulate(my_function, 10, 20)"
   ]
  },
  {
   "cell_type": "markdown",
   "id": "47",
   "metadata": {},
   "source": [
    "This works fine but if `my_function` is only being used in this one place then it would be more convenient to define it as a lambda function.\n",
    "\n",
    "The syntax for defining a lambda function is\n",
    "\n",
    "```txt\n",
    "lambda <parameters>: <expression>\n",
    "```\n",
    "\n",
    "So for our example this would look like,"
   ]
  },
  {
   "cell_type": "code",
   "execution_count": null,
   "id": "48",
   "metadata": {},
   "outputs": [],
   "source": [
    "lambda x: x * x + 2 * x + 10"
   ]
  },
  {
   "cell_type": "markdown",
   "id": "49",
   "metadata": {},
   "source": [
    "We could store this in a variable and then pass it to `tabulate`,"
   ]
  },
  {
   "cell_type": "code",
   "execution_count": null,
   "id": "50",
   "metadata": {},
   "outputs": [],
   "source": [
    "f = lambda x: x * x + 2 * x + 10\n",
    "tabulate(f, 10, 20)"
   ]
  },
  {
   "cell_type": "markdown",
   "id": "51",
   "metadata": {},
   "source": [
    "This is a bit like giving the lambda function a name, i.e., `f`. It is more common to just pass the lambda function directly to the function that is going to use it, as follows,"
   ]
  },
  {
   "cell_type": "code",
   "execution_count": null,
   "id": "52",
   "metadata": {},
   "outputs": [],
   "source": [
    "tabulate(lambda x: x * x + 2 * x + 10, 10, 20)"
   ]
  },
  {
   "cell_type": "markdown",
   "id": "53",
   "metadata": {},
   "source": [
    "Compare this to the original version where we used `def` to explicitly defined and name the function before passing it to tabulate. The lambda function version is more compact and arguably easier to read. It has the advantage that the function definition is right next to the function call that is using it, which makes it easier to see what is going on. Also, the function does not remain **in scope** after the call to `tabulate` has finished, i.e., we can be sure that no-one else will be trying to use it elsewhere in the code. This reduces the burden on code testing and code maintenance, and ultimately reduces the chance of bugs.\n",
    "\n",
    "*Copyright © 2023–2025 Jon Barker, University of Sheffield. All rights reserved.*"
   ]
  }
 ],
 "metadata": {
  "jupytext": {
   "cell_metadata_filter": "-all"
  },
  "kernelspec": {
   "display_name": "Python 3 (ipykernel)",
   "language": "python",
   "name": "python3"
  },
  "language_info": {
   "codemirror_mode": {
    "name": "ipython",
    "version": 3
   },
   "file_extension": ".py",
   "mimetype": "text/x-python",
   "name": "python",
   "nbconvert_exporter": "python",
   "pygments_lexer": "ipython3",
   "version": "3.12.5"
  }
 },
 "nbformat": 4,
 "nbformat_minor": 5
}
