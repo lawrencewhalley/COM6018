{
 "cells": [
  {
   "cell_type": "markdown",
   "id": "0",
   "metadata": {},
   "source": [
    "# 010 Getting Started with Python\n",
    "\n",
    "> COM6018\n",
    "\n",
    "**Copyright © 2023–2025 Jon Barker, University of Sheffield. All rights reserved.**\n",
    "\n",
    "This notebook contains a number of exercises that will help you get started with Python.  It is not intended to be a comprehensive introduction to Python, but rather a quick introduction to some of the features that you will need for this module.\n",
    "\n",
    "At each stage there is a problem described for which you have to implement a solution in the following code cell. There is then a test cell which will run and check that your solution is correct.  If it is correct, the test cell will print \"Test passed\".  If it is not correct, the test cell will print \"Test failed\" and give you some information about what went wrong.\n",
    "\n"
   ]
  },
  {
   "cell_type": "markdown",
   "id": "1",
   "metadata": {},
   "source": [
    "## 1 Processing a list"
   ]
  },
  {
   "cell_type": "markdown",
   "id": "2",
   "metadata": {},
   "source": [
    "### 1.1 Summing a list of numbers\n",
    "\n",
    "Write a function called `sum_list` that takes a list of numbers as an argument and returns the sum of the numbers in the list.  For example:\n",
    "\n",
    "```python\n",
    "sum_list([1, 2, 3, 4, 5])\n",
    "```\n",
    "\n",
    "should return `15`.\n",
    "\n",
    "One approach to this is to use Python's inbuilt `sum` function which takes a list of numbers as an argument and returns the sum of the numbers in the list.  For example:\n",
    "\n",
    "```python\n",
    "def sum_list(numbers):\n",
    "    return sum(numbers)\n",
    "```\n",
    "\n",
    "For this exercise, write your solution from scratch without using the `sum` function but instead using a loop to iterate over the list and add the numbers together.\n",
    "\n",
    "Implement your function in the cell below and then run the following cell to check that it works."
   ]
  },
  {
   "cell_type": "code",
   "execution_count": 1,
   "id": "3",
   "metadata": {},
   "outputs": [],
   "source": [
    "def sum_list(numbers):\n",
    "    return sum(numbers)"
   ]
  },
  {
   "cell_type": "code",
   "execution_count": 2,
   "id": "4",
   "metadata": {},
   "outputs": [
    {
     "name": "stdout",
     "output_type": "stream",
     "text": [
      "All tests passed\n"
     ]
    }
   ],
   "source": [
    "# TESTS\n",
    "assert sum_list([1, 2, 3, 4, 5]) == 15\n",
    "assert sum_list([-100]) == -100\n",
    "assert sum_list([]) == 0\n",
    "print(\"All tests passed\")"
   ]
  },
  {
   "cell_type": "markdown",
   "id": "5",
   "metadata": {},
   "source": [
    "### 1.2. Product of a list of numbers\n",
    "\n",
    "Write a function called `product_list` that takes a list of numbers as an argument and returns the product of the numbers in the list.  \n",
    "\n",
    "For example:\n",
    "\n",
    "```python\n",
    "product_list([1, 2, 3, 4, 5])\n",
    "```\n",
    "\n",
    "should return `120`."
   ]
  },
  {
   "cell_type": "code",
   "execution_count": 3,
   "id": "6",
   "metadata": {},
   "outputs": [],
   "source": [
    "def product_list(numbers):\n",
    "    product = 1\n",
    "    for n in numbers:\n",
    "        product *= n\n",
    "    print(product)\n",
    "    return product"
   ]
  },
  {
   "cell_type": "code",
   "execution_count": 4,
   "id": "7",
   "metadata": {},
   "outputs": [
    {
     "name": "stdout",
     "output_type": "stream",
     "text": [
      "120\n",
      "0\n",
      "1\n",
      "All tests passed\n"
     ]
    }
   ],
   "source": [
    "# TESTS\n",
    "assert product_list([1, 2, 3, 4, 5]) == 120\n",
    "assert product_list([1, 2, -4, 0, 5]) == 0\n",
    "assert product_list([]) == 1\n",
    "print(\"All tests passed\")"
   ]
  },
  {
   "cell_type": "markdown",
   "id": "8",
   "metadata": {},
   "source": [
    "### 1.3. Finding all values greater than a threshold\n",
    "\n",
    "Write a Python function called `greater_than` that takes two arguments:\n",
    "\n",
    "\t1.\t`numbers`: a list of numbers.\n",
    "\t2.\t`threshold`: a number.\n",
    "\n",
    "The function should return a new list containing all the numbers from numbers that are greater than the threshold.\n",
    "\n",
    "For example:\n",
    "\n",
    "```python\n",
    "greater_than([1, 2, 3, 4, 5], 3)\n",
    "```\n",
    "\n",
    "should return `[4, 5]`.\n",
    "\n",
    "Implement this function using a 'for' loop. i.e. iterate over the list and add each number that is greater than the threshold to a new list.  You can add a number to a list by using the `append` method.  For example:\n",
    "\n",
    "```python\n",
    "my_list = []\n",
    "my_list.append(1)\n",
    "my_list.append(2)\n",
    "```\n",
    "\n",
    "Implement this solution in the cell below and then run the following cell to check that it works."
   ]
  },
  {
   "cell_type": "code",
   "execution_count": 5,
   "id": "9",
   "metadata": {},
   "outputs": [],
   "source": [
    "def greater_than(numbers,threshold):\n",
    "    returnedvalues = []\n",
    "\n",
    "    for i in numbers:\n",
    "        if i > threshold:\n",
    "            returnedvalues.append(i)\n",
    "\n",
    "    return returnedvalues"
   ]
  },
  {
   "cell_type": "code",
   "execution_count": 6,
   "id": "10",
   "metadata": {},
   "outputs": [
    {
     "name": "stdout",
     "output_type": "stream",
     "text": [
      "All tests passed\n"
     ]
    }
   ],
   "source": [
    "# TESTS\n",
    "assert greater_than([1, 2, 3, 4, 5], 3) == [4, 5]\n",
    "assert greater_than([1, 2, 3, 4, 5], 5) == []\n",
    "assert greater_than([1, 2, 3, 4, 5], 0) == [1, 2, 3, 4, 5]\n",
    "print(\"All tests passed\")"
   ]
  },
  {
   "cell_type": "markdown",
   "id": "11",
   "metadata": {},
   "source": [
    "Now, implement the `greater_than` function again but this time using a list comprehension rather than an for loop. Check the [tutorial on list comprehensions](https://uos-com-6018.github.io/COM6018/materials/tutorials/015_Further_Python.html) if you are not sure how to do this. Hint, you should be able to write the function with a single line.\n",
    "\n",
    "Call your new function `greater_than_lc`, implement it in the cell below and then run the test cell to check that it works."
   ]
  },
  {
   "cell_type": "code",
   "execution_count": 7,
   "id": "12",
   "metadata": {},
   "outputs": [],
   "source": [
    "def greater_than_lc(numbers,threshold):\n",
    "    return [x for x in numbers if x > threshold]"
   ]
  },
  {
   "cell_type": "code",
   "execution_count": 8,
   "id": "13",
   "metadata": {},
   "outputs": [
    {
     "name": "stdout",
     "output_type": "stream",
     "text": [
      "All tests passed\n"
     ]
    }
   ],
   "source": [
    "# TESTS\n",
    "assert greater_than_lc([1, 2, 3, 4, 5], 3) == [4, 5]\n",
    "assert greater_than_lc([1, 2, 3, 4, 5], 5) == []\n",
    "assert greater_than_lc([1, 2, 3, 4, 5], 0) == [1, 2, 3, 4, 5]\n",
    "print(\"All tests passed\")"
   ]
  },
  {
   "cell_type": "markdown",
   "id": "14",
   "metadata": {},
   "source": [
    "We are now going to compare the speed of the two implementations. We will do this by using a very long list and the special %timeit magic function which is part of the Jupyter notebook environment. The %timeit function will run a piece of code a number of times and report the average time taken.  Run the following cells to see how long it takes to run the two functions on a list of 1000000 numbers.\n"
   ]
  },
  {
   "cell_type": "code",
   "execution_count": 9,
   "id": "15",
   "metadata": {},
   "outputs": [],
   "source": [
    "big_list = [x for x in range(1000000)]"
   ]
  },
  {
   "cell_type": "code",
   "execution_count": 10,
   "id": "16",
   "metadata": {},
   "outputs": [
    {
     "name": "stdout",
     "output_type": "stream",
     "text": [
      "22.1 ms ± 292 μs per loop (mean ± std. dev. of 7 runs, 10 loops each)\n"
     ]
    }
   ],
   "source": [
    "%timeit greater_than(big_list, 500000)"
   ]
  },
  {
   "cell_type": "code",
   "execution_count": 11,
   "id": "17",
   "metadata": {},
   "outputs": [
    {
     "name": "stdout",
     "output_type": "stream",
     "text": [
      "16.7 ms ± 221 μs per loop (mean ± std. dev. of 7 runs, 100 loops each)\n"
     ]
    }
   ],
   "source": [
    "%timeit greater_than_lc(big_list, 500000)"
   ]
  },
  {
   "cell_type": "markdown",
   "id": "18",
   "metadata": {},
   "source": [
    "You should find that the version using the list comprehension is significantly faster than the version using the for loop.  This is because the for loop version is appending each number to the list one element at a time. This is very slow. \n",
    "\n",
    "In other contexts, `for loops` may run at about the same speed as list comprehensions. For example, let's run the above experiment again but this time using a much higher threshold value so that the output list has no items."
   ]
  },
  {
   "cell_type": "code",
   "execution_count": 12,
   "id": "19",
   "metadata": {},
   "outputs": [
    {
     "name": "stdout",
     "output_type": "stream",
     "text": [
      "11.5 ms ± 18.2 μs per loop (mean ± std. dev. of 7 runs, 100 loops each)\n",
      "11.1 ms ± 162 μs per loop (mean ± std. dev. of 7 runs, 100 loops each)\n"
     ]
    }
   ],
   "source": [
    "%timeit greater_than(big_list, 1000000)\n",
    "%timeit greater_than_lc(big_list, 1000000)"
   ]
  },
  {
   "cell_type": "markdown",
   "id": "20",
   "metadata": {},
   "source": [
    "Notice that now that there are no items to add to the list, they both run faster but also that the speed difference between the for-loop version and the list comprehension version is much smaller."
   ]
  },
  {
   "cell_type": "markdown",
   "id": "21",
   "metadata": {},
   "source": [
    "### 1.4 Finding words with more than N characters\n",
    "\n",
    "Write a function called `long_words` that takes a list of words and a threshold value as arguments and returns a list of all the words in the list that have more than N characters. \n",
    "\n",
    "For example:\n",
    "\n",
    "```python\n",
    "long_words(['the', 'quick', 'brown', 'fox', 'jumped', 'over', 'the', 'lazy', 'dog'], 3)\n",
    "```\n",
    "\n",
    "should return `['quick', 'brown', 'jumped', 'over', 'lazy']`."
   ]
  },
  {
   "cell_type": "code",
   "execution_count": 13,
   "id": "22",
   "metadata": {},
   "outputs": [],
   "source": [
    "def long_words(words, threshold):\n",
    "    return [x for x in words if len(x) > threshold]"
   ]
  },
  {
   "cell_type": "code",
   "execution_count": 14,
   "id": "23",
   "metadata": {},
   "outputs": [
    {
     "name": "stdout",
     "output_type": "stream",
     "text": [
      "All tests passed\n"
     ]
    }
   ],
   "source": [
    "# TESTS\n",
    "assert long_words([\"hello\", \"world\", \"this\", \"is\", \"a\", \"test\"], 3) == [\"hello\", \"world\", \"this\", \"test\"]\n",
    "assert long_words([\"hello\", \"world\", \"this\", \"is\", \"a\", \"test\"], 4) == [\"hello\", \"world\"]\n",
    "assert long_words([\"hello\", \"world\", \"this\", \"is\", \"a\", \"test\"], 0) == [\"hello\", \"world\", \"this\", \"is\", \"a\", \"test\"]\n",
    "assert long_words([\"hello\", \"world\", \"this\", \"is\", \"a\", \"test\"], 5) == []\n",
    "assert long_words([], 0) == []\n",
    "print(\"All tests passed\")"
   ]
  },
  {
   "cell_type": "markdown",
   "id": "24",
   "metadata": {},
   "source": [
    "## 2 Searching a list"
   ]
  },
  {
   "cell_type": "markdown",
   "id": "25",
   "metadata": {},
   "source": [
    "### 2.1 Finding a specific value in a list\n",
    "\n",
    "Write a function called `find_item` that takes a list of values and an item to search for and returns the index of the first occurrence of the item in the list. The index should count from 0. If the item is not in the list, the function should return -1.  \n",
    "\n",
    "For example:\n",
    "\n",
    "```python\n",
    "find_item([1, 2, 3, 4, 5], 3)\n",
    "```\n",
    "\n",
    "should return `2`.\n"
   ]
  },
  {
   "cell_type": "code",
   "execution_count": 15,
   "id": "26",
   "metadata": {},
   "outputs": [],
   "source": [
    "def find_item(numbers,searchNumber):\n",
    "    \n",
    "    position = -1\n",
    "    for x in numbers:\n",
    "        if x == searchNumber:\n",
    "            position = numbers.index(x)\n",
    "            \n",
    "    return position"
   ]
  },
  {
   "cell_type": "code",
   "execution_count": 16,
   "id": "27",
   "metadata": {},
   "outputs": [
    {
     "name": "stdout",
     "output_type": "stream",
     "text": [
      "All tests passed\n"
     ]
    }
   ],
   "source": [
    "# TESTS\n",
    "assert find_item([1, 2, 3, 4, 5], 3) == 2\n",
    "assert find_item([1, 2, 3, 4, 5], 1) == 0\n",
    "assert find_item([1, 2, 3, 4, 5], 6) == -1\n",
    "assert find_item([], 0) == -1\n",
    "print(\"All tests passed\")"
   ]
  },
  {
   "cell_type": "markdown",
   "id": "28",
   "metadata": {},
   "source": [
    "### 2.2 Finding the maximum value in a list\n",
    "\n",
    "Write a function called `max_item` that takes a list of numbers and returns the maximum value in the list.\n",
    "\n",
    "For example:\n",
    "\n",
    "```python\n",
    "max_item([1, 2, 3, 4, 5])\n",
    "```\n",
    "\n",
    "should return `5`.\n",
    "\n",
    "Your function must not use the inbuilt `max` function.\n",
    "\n",
    "You can assume that the list being passed to the function will always contain at least one item."
   ]
  },
  {
   "cell_type": "code",
   "execution_count": 17,
   "id": "29",
   "metadata": {},
   "outputs": [],
   "source": [
    "def max_item(numbers):\n",
    "    highestNumber = numbers[0]\n",
    "    for x in numbers:\n",
    "        if x > highestNumber:\n",
    "            highestNumber = x\n",
    "    return highestNumber"
   ]
  },
  {
   "cell_type": "code",
   "execution_count": 18,
   "id": "30",
   "metadata": {},
   "outputs": [
    {
     "name": "stdout",
     "output_type": "stream",
     "text": [
      "All tests passed\n"
     ]
    }
   ],
   "source": [
    "# TESTS\n",
    "assert max_item([1, 2, 3, 4, 5]) == 5\n",
    "assert max_item([100, 2, 3, 4, 5]) == 100\n",
    "assert max_item([3, 3, 3]) == 3\n",
    "assert max_item([-1, -2, -3, -4, -5]) == -1\n",
    "print(\"All tests passed\")"
   ]
  },
  {
   "cell_type": "markdown",
   "id": "31",
   "metadata": {},
   "source": [
    "### 2.3 Finding the closest value in a list\n",
    "\n",
    "Write a function named `closest_value` that takes a list and a target value and returns the value in the list that is closest to the target value. \n",
    "\n",
    "For example:\n",
    "\n",
    "```python\n",
    "closest_value([1, 2, 3, 4, 5], 3.2)\n",
    "```\n",
    "\n",
    "should return `3`.\n",
    "\n",
    "Again, you can assume that the list being passed to the function will always contain at least one item."
   ]
  },
  {
   "cell_type": "code",
   "execution_count": 19,
   "id": "32",
   "metadata": {},
   "outputs": [],
   "source": [
    "def closest_value(numbers,target_value):\n",
    "    closest_value = numbers[0]\n",
    "    for x in numbers:\n",
    "        if abs(target_value - x) < abs(target_value - closest_value):\n",
    "            closest_value = x\n",
    "    return closest_value"
   ]
  },
  {
   "cell_type": "code",
   "execution_count": 20,
   "id": "34",
   "metadata": {},
   "outputs": [
    {
     "name": "stdout",
     "output_type": "stream",
     "text": [
      "All tests passed\n"
     ]
    }
   ],
   "source": [
    "# TESTS\n",
    "assert closest_value([1, 2, 3, 4, 5], 3.2) == 3\n",
    "assert closest_value([1, 2, 3, 4, 5], 3.8) == 4\n",
    "assert closest_value([1, 2, 3, 4, 5], -1) == 1\n",
    "assert closest_value([1, 2, 3, 4, 5], 10) == 5\n",
    "print(\"All tests passed\")"
   ]
  },
  {
   "cell_type": "markdown",
   "id": "35",
   "metadata": {},
   "source": [
    "## 3. Applying functions to list values"
   ]
  },
  {
   "cell_type": "markdown",
   "id": "36",
   "metadata": {},
   "source": [
    "### 3.1 Squaring a list of numbers\n",
    "\n",
    "Write a function called `square_list` that takes a list of numbers and returns a new list where each number is the square of the corresponding number in the input list.\n",
    "\n",
    "For example:\n",
    "\n",
    "```python\n",
    "square_list([1, 2, 3, 4, 5])\n",
    "```\n",
    "\n",
    "should return `[1, 4, 9, 16, 25]`."
   ]
  },
  {
   "cell_type": "code",
   "execution_count": 21,
   "id": "37",
   "metadata": {},
   "outputs": [],
   "source": [
    "def square_list(numbers):\n",
    "    squares = []\n",
    "    for x in numbers:\n",
    "        squares.append(x*x)\n",
    "    return squares"
   ]
  },
  {
   "cell_type": "code",
   "execution_count": 22,
   "id": "38",
   "metadata": {},
   "outputs": [
    {
     "name": "stdout",
     "output_type": "stream",
     "text": [
      "All tests passed\n"
     ]
    }
   ],
   "source": [
    "# TESTS\n",
    "assert square_list([1, 2, 3, 4, 5]) == [1, 4, 9, 16, 25]\n",
    "assert square_list([-1, -2, -3, -4, -5]) == [1, 4, 9, 16, 25]\n",
    "assert square_list([]) == []\n",
    "print(\"All tests passed\")"
   ]
  },
  {
   "cell_type": "markdown",
   "id": "39",
   "metadata": {},
   "source": [
    "### 3.2 Applying a function to a list of numbers \n",
    "\n",
    "In Python you can pass functions as arguments to other functions.\n",
    "\n",
    "Write a function called `apply_to_list` that takes a list of numbers and a function as arguments and returns a new list with the function applied to each number in the list.\n",
    "\n",
    "For example:\n",
    "\n",
    "```python\n",
    "def square(x):\n",
    "    return x * x\n",
    "\n",
    "apply_to_list([1, 2, 3, 4, 5], square)\n",
    "```\n",
    "\n",
    "should return `[1, 4, 9, 16, 25]`.\n",
    "\n",
    "For hints, see Section 3 of the tutorial on [Further Python](https://uos-com-6018.github.io/COM6018/materials/tutorials/015_Further_Python.html)."
   ]
  },
  {
   "cell_type": "code",
   "execution_count": 23,
   "id": "40",
   "metadata": {},
   "outputs": [],
   "source": [
    "def apply_to_list(numbers, function):\n",
    "    function_list = []\n",
    "    for x in numbers:\n",
    "        function_list.append(function(x))\n",
    "    return function_list"
   ]
  },
  {
   "cell_type": "code",
   "execution_count": 24,
   "id": "41",
   "metadata": {},
   "outputs": [
    {
     "name": "stdout",
     "output_type": "stream",
     "text": [
      "All tests passed\n"
     ]
    }
   ],
   "source": [
    "# TESTS\n",
    "\n",
    "\n",
    "def square(x):\n",
    "    return x**2\n",
    "\n",
    "\n",
    "assert apply_to_list([1, 2, 3, 4, 5],  square) == [1, 4, 9, 16, 25]\n",
    "assert apply_to_list([-1, -2, -3, -4, -5],  square) == [1, 4, 9, 16, 25]\n",
    "assert apply_to_list([], square) == []\n",
    "print(\"All tests passed\")"
   ]
  },
  {
   "cell_type": "markdown",
   "id": "42",
   "metadata": {},
   "source": [
    "### 3.3 Computing numbers in the hailstone sequence \n",
    "\n",
    "Write a function called hailstone that returns the next number in the hailstone sequence for a list of numbers. The hailstone sequence is defined as follows:\n",
    "\n",
    "* If the number is even, divide it by two.\n",
    "* If the number is odd, multiply it by three and add one.\n",
    "\n",
    "Then write a function called hailstone_list that takes a list of numbers and returns a new list with the next number in the hailstone sequence for each number in the list.\n",
    "\n",
    "For example:\n",
    "\n",
    "```python\n",
    "hailstone_list([1, 2, 3, 4, 5])\n",
    "```\n",
    "\n",
    "should return `[4, 1, 10, 2, 16]`.\n",
    "\n"
   ]
  },
  {
   "cell_type": "code",
   "execution_count": 25,
   "id": "43",
   "metadata": {},
   "outputs": [],
   "source": [
    "def hailstone_list(numbers):\n",
    "    hailstone_list = []\n",
    "    for x in numbers:\n",
    "        if x % 2 == 0:\n",
    "            hailstone_list.append(x/2)\n",
    "        else:\n",
    "            hailstone_list.append(x*3+1)\n",
    "    return hailstone_list"
   ]
  },
  {
   "cell_type": "code",
   "execution_count": 26,
   "id": "44",
   "metadata": {},
   "outputs": [
    {
     "name": "stdout",
     "output_type": "stream",
     "text": [
      "All tests passed\n"
     ]
    }
   ],
   "source": [
    "# TESTS\n",
    "assert hailstone_list([1,2,3,4,5,6,7,8,9,10]) == [4,1,10,2,16,3,22,4,28,5]\n",
    "print(\"All tests passed\")"
   ]
  },
  {
   "cell_type": "markdown",
   "id": "45",
   "metadata": {},
   "source": [
    "Now, write a loop that calls the `hailstone_list` function 100 times in a row. Here’s what the loop should do:\n",
    "\n",
    "1.  Use the output of one call as the input for the next:\n",
    "  - In each iteration of the loop, the list returned from the hailstone_list function should be passed as input to the next call of the function.\n",
    "2.\tRepeat this process 100 times:\n",
    " - Keep applying the function, updating the list in each iteration.\n",
    "\n",
    "What do you notice about the numbers in the list as you keep applying the function?\n",
    "\n",
    "Experiment with different starting values and different numbers of iterations. What do you notice?"
   ]
  },
  {
   "cell_type": "code",
   "execution_count": 27,
   "id": "46",
   "metadata": {},
   "outputs": [
    {
     "data": {
      "text/plain": [
       "[5,\n",
       " 16,\n",
       " 8,\n",
       " 4,\n",
       " 2,\n",
       " 1,\n",
       " 4,\n",
       " 2,\n",
       " 1,\n",
       " 4,\n",
       " 2,\n",
       " 1,\n",
       " 4,\n",
       " 2,\n",
       " 1,\n",
       " 4,\n",
       " 2,\n",
       " 1,\n",
       " 4,\n",
       " 2,\n",
       " 1,\n",
       " 4,\n",
       " 2,\n",
       " 1,\n",
       " 4,\n",
       " 2,\n",
       " 1,\n",
       " 4,\n",
       " 2,\n",
       " 1,\n",
       " 4,\n",
       " 2,\n",
       " 1,\n",
       " 4,\n",
       " 2,\n",
       " 1,\n",
       " 4,\n",
       " 2,\n",
       " 1,\n",
       " 4,\n",
       " 2,\n",
       " 1,\n",
       " 4,\n",
       " 2,\n",
       " 1,\n",
       " 4,\n",
       " 2,\n",
       " 1,\n",
       " 4,\n",
       " 2,\n",
       " 1,\n",
       " 4,\n",
       " 2,\n",
       " 1,\n",
       " 4,\n",
       " 2,\n",
       " 1,\n",
       " 4,\n",
       " 2,\n",
       " 1,\n",
       " 4,\n",
       " 2,\n",
       " 1,\n",
       " 4,\n",
       " 2,\n",
       " 1,\n",
       " 4,\n",
       " 2,\n",
       " 1,\n",
       " 4,\n",
       " 2,\n",
       " 1,\n",
       " 4,\n",
       " 2,\n",
       " 1,\n",
       " 4,\n",
       " 2,\n",
       " 1,\n",
       " 4,\n",
       " 2,\n",
       " 1,\n",
       " 4,\n",
       " 2,\n",
       " 1,\n",
       " 4,\n",
       " 2,\n",
       " 1,\n",
       " 4,\n",
       " 2,\n",
       " 1,\n",
       " 4,\n",
       " 2,\n",
       " 1,\n",
       " 4,\n",
       " 2,\n",
       " 1,\n",
       " 4,\n",
       " 2,\n",
       " 1,\n",
       " 4,\n",
       " 2]"
      ]
     },
     "execution_count": 27,
     "metadata": {},
     "output_type": "execute_result"
    }
   ],
   "source": [
    "def hailstone_list(numbers):\n",
    "    hailstone_list = []\n",
    "    for x in numbers:\n",
    "        if x % 2 == 0:\n",
    "            hailstone_list.append(x/2)\n",
    "        else:\n",
    "            hailstone_list.append(x*3+1)\n",
    "    return hailstone_list\n",
    "\n",
    "def hailstone_2(numbers):\n",
    "    for _ in range(100):\n",
    "        last = numbers[-1]\n",
    "        if last % 2 == 0:\n",
    "            numbers.append(last // 2)\n",
    "        else:\n",
    "            numbers.append(last * 3 + 1)\n",
    "    return numbers\n",
    "\n",
    "starting_list = [5]\n",
    "\n",
    "hailstone_2(starting_list)"
   ]
  },
  {
   "cell_type": "markdown",
   "id": "47",
   "metadata": {},
   "source": [
    "## 4. Working with pairs of lists"
   ]
  },
  {
   "cell_type": "markdown",
   "id": "48",
   "metadata": {},
   "source": [
    "### 4.1 Counting matching values in a pair of lists\n",
    "\n",
    "Write a function called `count_matches` that takes two lists of numbers as arguments and returns the number of times that the values at the same index in the two lists are equal.  \n",
    "\n",
    "For example:\n",
    "\n",
    "```python\n",
    "count_matches([1, 2, 3, 4, 5], [1, 20, 3, -2, 5])\n",
    "```\n",
    "\n",
    "should return `3` because there are matching values at index 0, 2 and 4. \n",
    "\n",
    "Note, your function should still work if the two lists are of different lengths."
   ]
  },
  {
   "cell_type": "code",
   "execution_count": 28,
   "id": "49",
   "metadata": {},
   "outputs": [],
   "source": [
    "def count_matches(numbers1, numbers2):\n",
    "    count = 0\n",
    "    for x in range(min(len(numbers1),(len(numbers2)))):\n",
    "        if numbers1[x] == numbers2[x]:\n",
    "            count +=1\n",
    "    return count"
   ]
  },
  {
   "cell_type": "code",
   "execution_count": 29,
   "id": "50",
   "metadata": {},
   "outputs": [
    {
     "name": "stdout",
     "output_type": "stream",
     "text": [
      "All tests passed\n"
     ]
    }
   ],
   "source": [
    "# TESTS\n",
    "assert count_matches([1, 2, 3, 4, 5], [1, 2, 3, 4, 5]) == 5\n",
    "assert count_matches([1, 2, 3, 4, 5], [1, 2, 3, 4, 6]) == 4\n",
    "assert count_matches([1, 2, 3, 4, 5], [1, 2, 3]) == 3\n",
    "assert count_matches([1, 2, 30, 4], [1, 2, 3, 4, 5, 6]) == 3\n",
    "assert count_matches([], []) == 0\n",
    "print(\"All tests passed\")"
   ]
  },
  {
   "cell_type": "markdown",
   "id": "51",
   "metadata": {},
   "source": [
    "### 4.2 Rotate list values by N\n",
    "\n",
    "Write a function called `rotate_list` that takes a list and returns a list of the same length but with the values in the original list shifted to the right by a given number of places.  The values should rotate around the list, i.e. values that are shifted off the end should reappear at the start.  \n",
    "\n",
    "For example:\n",
    "\n",
    "```python\n",
    "shift_list([1, 2, 3, 4, 5], 2)\n",
    "```\n",
    "\n",
    "should return `[4, 5, 1, 2, 3]`.\n",
    "\n",
    "Note, a negative value for the shift should rotate the values to the left.\n",
    "\n",
    "Hint, this can be written in a couple of lines if you use list slicing. Understanding how -ve values work with list slicing is important for this problem. i.e., understand the meaning of my_list[-1:] and my_list[:-1]."
   ]
  },
  {
   "cell_type": "code",
   "execution_count": 30,
   "id": "52",
   "metadata": {},
   "outputs": [
    {
     "data": {
      "text/plain": [
       "[5, 6, 7, 8, 1, 2, 3, 4]"
      ]
     },
     "execution_count": 30,
     "metadata": {},
     "output_type": "execute_result"
    }
   ],
   "source": [
    "def rotate_list(numbers, shift):\n",
    "    n = len(numbers)\n",
    "    shift = shift % n\n",
    "    if shift > 0:\n",
    "        return numbers[-shift:] + numbers[:-shift]\n",
    "    elif shift < 0:\n",
    "        shift = -shift\n",
    "        return numbers[shift:] + numbers[:shift]\n",
    "    else:\n",
    "        return numbers\n",
    "    \n",
    "list = [1,2,3,4,5,6,7,8]\n",
    "rotate_list(list, -4)\n"
   ]
  },
  {
   "cell_type": "code",
   "execution_count": 31,
   "id": "53",
   "metadata": {},
   "outputs": [
    {
     "name": "stdout",
     "output_type": "stream",
     "text": [
      "All tests passed\n"
     ]
    }
   ],
   "source": [
    "# TESTS\n",
    "assert rotate_list([1, 2, 3, 4, 5], 1) == [5, 1, 2, 3, 4]\n",
    "assert rotate_list([1, 2, 3, 4, 5], 2) == [4, 5, 1, 2, 3]\n",
    "assert rotate_list([1, 2, 3, 4, 5], 7) == [4, 5, 1, 2, 3]\n",
    "assert rotate_list([1, 2, 3, 4, 5], 0) == [1, 2, 3, 4, 5]\n",
    "assert rotate_list([1, 2, 3, 4, 5], 5) == [1, 2, 3, 4, 5]\n",
    "assert rotate_list([1, 2, 3, 4, 5], -1) == [2, 3, 4, 5, 1]\n",
    "assert rotate_list([1, 2, 3, 4, 5], -11) == [2, 3, 4, 5, 1]\n",
    "print(\"All tests passed\")"
   ]
  },
  {
   "cell_type": "markdown",
   "id": "54",
   "metadata": {},
   "source": [
    "### 4.3 Aligning two \n",
    "\n",
    "Write a function called `align_lists` that takes two lists and returns the right shift that should be applied to the second list to best align it with the first list.  The alignment is scored by counting the number of matching values in the two lists.  For example:\n",
    "\n",
    "```python\n",
    "align_lists([1, 2, 3, 4, 5], [2, 0, 4, 5, 1])\n",
    "``` \n",
    "\n",
    "should return `1` because the second list is best aligned when it is shifted one place to the right.\n",
    "\n",
    "Hint, you can use the `rotate_list` and `count_matches` functions you wrote above to help you solve this problem."
   ]
  },
  {
   "cell_type": "code",
   "execution_count": 32,
   "id": "55",
   "metadata": {},
   "outputs": [],
   "source": [
    "def align_lists(numbers1, numbers2):\n",
    "    highest_match = 0\n",
    "    best_rotation = 0\n",
    "    \n",
    "    for rotation in range(len(numbers1)):\n",
    "        rotated = rotate_list(numbers2, rotation)\n",
    "        matches = count_matches(numbers1, rotated)\n",
    "        if matches > highest_match:\n",
    "            highest_match = matches\n",
    "            best_rotation = rotation\n",
    "            \n",
    "    return best_rotation"
   ]
  },
  {
   "cell_type": "code",
   "execution_count": 33,
   "id": "56",
   "metadata": {},
   "outputs": [
    {
     "name": "stdout",
     "output_type": "stream",
     "text": [
      "All tests passed\n"
     ]
    }
   ],
   "source": [
    "# TESTS\n",
    "assert align_lists([1, 2, 3, 4, 5], [1, 2, 3, 4, 5]) == 0\n",
    "assert align_lists([1, 2, 3, 4, 5], [2, 3, 4, 5, 1]) == 1\n",
    "assert align_lists([2, 3, 4, 5, 1], [1, 2, 3, 4, 5]) == 4\n",
    "assert align_lists([1, 2, 3, 4, 5], [2, 0, 4, 5, 1]) == 1\n",
    "print(\"All tests passed\")"
   ]
  },
  {
   "cell_type": "markdown",
   "id": "57",
   "metadata": {},
   "source": [
    "#### DNA sequence alignment demo\n",
    "\n",
    "If you have written the functions correctly, the following gene sequence alignment demo should work. \n",
    "\n",
    "DNA sequences can be represented by sequences of the symbols A, C, G and T representing the four `bases` that appear in DNA. The demo imagines that you have two snippets of DNA and wish to compare them by seeing how many matching bases they have. However, the two sequences are not aligned, i.e. the snippets don't start at exactly the same position in the DNA sequence. The demo will align the sequences by shifting one of them to the right and then score the alignment by counting the number of matching bases. The alignment with the highest score is the best alignment and is used to compute the similarity between the two sequences, i.e. the percentage of bases that match.\n",
    "\n",
    "\n",
    "\n",
    "❗ Note how the demo is passing strings to functions that expect lists. This works because in Python strings are represented as lists of characters. A string can be used in any place that expects a list.\n"
   ]
  },
  {
   "cell_type": "code",
   "execution_count": 34,
   "id": "58",
   "metadata": {},
   "outputs": [
    {
     "name": "stdout",
     "output_type": "stream",
     "text": [
      "Original sequences:\n",
      "GAATGCGGGGTAAAAAATGGCACTTAACCCTTCAAATGACGACCCTGCCTGAGCTGCCGCCGGAAGAGCGTCCGGCAGCT\n",
      "GGGTAAAAAAGGGCACTTAACCCTTCAGATGACGACCCTGCGTGAGCTGCCGCCAGAAGAGCGTCCGGCAGCTGGTGCGG\n",
      "These sequences have a match score of 25.0 %\n",
      "\n",
      "\n",
      "After shifting the second sequence 7 positions:\n",
      "GAATGCGGGGTAAAAAATGGCACTTAACCCTTCAAATGACGACCCTGCCTGAGCTGCCGCCGGAAGAGCGTCCGGCAGCT\n",
      "GGTGCGGGGGTAAAAAAGGGCACTTAACCCTTCAGATGACGACCCTGCGTGAGCTGCCGCCAGAAGAGCGTCCGGCAGCT\n",
      "These sequences have a match score of 88.75 %\n"
     ]
    }
   ],
   "source": [
    "seq1 = \"GAATGCGGGGTAAAAAATGGCACTTAACCCTTCAAATGACGACCCTGCCTGAGCTGCCGCCGGAAGAGCGTCCGGCAGCT\"\n",
    "seq2 = \"GGGTAAAAAAGGGCACTTAACCCTTCAGATGACGACCCTGCGTGAGCTGCCGCCAGAAGAGCGTCCGGCAGCTGGTGCGG\"\n",
    "\n",
    "match_score = 100*count_matches(seq1, seq2)/len(seq1)\n",
    "shift = align_lists(seq1, seq2)\n",
    "aligned_seq2 = rotate_list(seq2, shift)\n",
    "aligned_match_score = 100*count_matches(seq1, aligned_seq2)/len(seq1)\n",
    "\n",
    "print(\"Original sequences:\")\n",
    "print(seq1)\n",
    "print(seq2)\n",
    "print(\"These sequences have a match score of\", match_score, \"%\")\n",
    "print(\"\\n\")\n",
    "print(\"After shifting the second sequence\", shift, \"positions:\")\n",
    "print(seq1)\n",
    "print(aligned_seq2)\n",
    "print(\"These sequences have a match score of\", aligned_match_score, \"%\")"
   ]
  },
  {
   "cell_type": "markdown",
   "id": "59",
   "metadata": {},
   "source": [
    "### 4.4 Multiplying pairs of values in two lists\n",
    "\n",
    "Write a function called `multiply_lists` that takes two lists of numbers as arguments and returns a new list with the product of the values in the two lists.\n",
    "\n",
    "For example:\n",
    "\n",
    "```python\n",
    "multiply_lists([1, 2, 3, 4, 5], [1, 2, 3, 0, 0])\n",
    "```\n",
    "\n",
    "should return `[1, 4, 9, 0, 0]`.\n",
    "\n",
    "If the lists have unequal lengths the returned list should be the same length as the shorter list."
   ]
  },
  {
   "cell_type": "code",
   "execution_count": 51,
   "id": "60",
   "metadata": {},
   "outputs": [],
   "source": [
    "def multiply_lists(numbers1,numbers2):\n",
    "    results = []\n",
    "    if len(numbers1) < len(numbers2):\n",
    "        for x in range(len(numbers1)):\n",
    "            results.append(numbers1[x] * numbers2[x])\n",
    "    else:\n",
    "        for x in range(len(numbers2)):\n",
    "            results.append(numbers1[x] * numbers2[x])\n",
    "    return results\n",
    "\n",
    "numbers1 = [1, 2, 3, 4, 5]\n",
    "numbers2 = [1, 2, 3, 4, 5]"
   ]
  },
  {
   "cell_type": "code",
   "execution_count": 52,
   "id": "61",
   "metadata": {},
   "outputs": [
    {
     "name": "stdout",
     "output_type": "stream",
     "text": [
      "All tests passed\n"
     ]
    }
   ],
   "source": [
    "# TESTS\n",
    "assert multiply_lists([1, 2, 3, 4, 5], [1, 2, 3, 4, 5]) == [1, 4, 9, 16, 25]\n",
    "assert multiply_lists([1, 2, 3, 4, 5], [2, 2, 2]) == [2, 4, 6]\n",
    "assert multiply_lists([1, 2, 3, 4, 5], [1, 2, 3, 0, 0]) == [1, 4, 9, 0, 0]\n",
    "assert multiply_lists([2, 2, 2], [1, 2, 3, 4, 5]) == [2, 4, 6]\n",
    "assert multiply_lists([1, 2, 3, 4, 5], []) == []\n",
    "print(\"All tests passed\")"
   ]
  },
  {
   "cell_type": "markdown",
   "id": "62",
   "metadata": {},
   "source": [
    "### 4.5 Applying a function to pairs of values in two lists\n",
    "\n",
    "Write a function called `apply_to_lists` that takes two lists of numbers and a function as arguments and returns a new list with the function applied to the pairs of values in the two lists.  \n",
    "\n",
    "For example:\n",
    "\n",
    "```python\n",
    "def add(x, y):\n",
    "    return x + y\n",
    "\n",
    "apply_to_lists([1, 2, 3, 4, 5], [1, 2, 3, 0, 0], add)\n",
    "```\n",
    "\n",
    "should return `[2, 4, 6, 4, 5]`."
   ]
  },
  {
   "cell_type": "code",
   "execution_count": 48,
   "id": "63",
   "metadata": {},
   "outputs": [],
   "source": [
    "add = lambda a,b : a+b\n",
    "times = lambda a,b : a*b\n",
    "\n",
    "def apply_to_lists(numbers1, numbers2, function):\n",
    "    results = []\n",
    "    for x in range(len(numbers1)):\n",
    "        results.append(function(numbers1[x],numbers2[x]))\n",
    "    return results"
   ]
  },
  {
   "cell_type": "code",
   "execution_count": 49,
   "id": "64",
   "metadata": {},
   "outputs": [
    {
     "name": "stdout",
     "output_type": "stream",
     "text": [
      "All tests passed\n"
     ]
    }
   ],
   "source": [
    "# TESTS\n",
    "assert apply_to_lists([1, 2, 3, 4, 5], [10, 20, 30, 40, 50], lambda x,y: x*y) == [10, 40, 90, 160, 250]\n",
    "assert apply_to_lists([1, 2, 3, 4, 5], [10, 20, 30, 40, 50], lambda x,y: x+y) == [11, 22, 33, 44, 55]\n",
    "print(\"All tests passed\")   "
   ]
  },
  {
   "cell_type": "markdown",
   "id": "65",
   "metadata": {},
   "source": [
    "The tests above are using `lambda` functions to define the function to be applied. Lambda functions are short functions that are defined inline and are convenient for this kind of problem. You can read about lambda functions [here](https://www.w3schools.com/python/python_lambda.asp) if you are interested. \n",
    "\n",
    "Without using lambda functions, the above example would look like this:\n"
   ]
  },
  {
   "cell_type": "code",
   "execution_count": 50,
   "id": "66",
   "metadata": {},
   "outputs": [
    {
     "name": "stdout",
     "output_type": "stream",
     "text": [
      "All tests passed\n"
     ]
    }
   ],
   "source": [
    "def add(x, y):\n",
    "    return x + y\n",
    "\n",
    "\n",
    "def multiply(x, y):\n",
    "    return x * y\n",
    "\n",
    "\n",
    "assert apply_to_lists([1, 2, 3, 4, 5], [10, 20, 30, 40, 50], multiply) == [10, 40, 90, 160, 250]\n",
    "assert apply_to_lists([1, 2, 3, 4, 5], [10, 20, 30, 40, 50], add) == [11, 22, 33, 44, 55]\n",
    "print(\"All tests passed\")"
   ]
  },
  {
   "cell_type": "markdown",
   "id": "67",
   "metadata": {},
   "source": [
    "## 5. Working with sets"
   ]
  },
  {
   "cell_type": "markdown",
   "id": "68",
   "metadata": {},
   "source": [
    "### 5.1 Counting number of unique values in a list\n",
    "\n",
    "Write a function called `count_unique` that takes a list of numbers and returns the number of unique values in the list.  \n",
    "\n",
    "For example:\n",
    "\n",
    "```python\n",
    "count_unique([1, 2, 3, 4, 5, 1, 2, 3, 4, 5])\n",
    "```\n",
    "\n",
    "should return `5` because there are five unique values in the list.\n",
    "\n",
    "Hint: this problem can be solved trivially with a single line of code if you use a set."
   ]
  },
  {
   "cell_type": "code",
   "execution_count": null,
   "id": "69",
   "metadata": {},
   "outputs": [
    {
     "data": {
      "text/plain": [
       "<function __main__.count_unique(numbers)>"
      ]
     },
     "execution_count": 60,
     "metadata": {},
     "output_type": "execute_result"
    }
   ],
   "source": [
    "def count_unique(numbers):\n",
    "    results = []\n",
    "    for x in range(len(numbers)):\n",
    "        if (numbers[x] not in results):\n",
    "            results.append(numbers[x])\n",
    "    return len(results)"
   ]
  },
  {
   "cell_type": "code",
   "execution_count": 61,
   "id": "70",
   "metadata": {},
   "outputs": [
    {
     "name": "stdout",
     "output_type": "stream",
     "text": [
      "All tests passed\n"
     ]
    }
   ],
   "source": [
    "# TESTS\n",
    "assert count_unique([1, 2, 3, 4, 5]) == 5\n",
    "assert count_unique([1, 2, 3, 4, 5, 1, 2, 3]) == 5\n",
    "assert count_unique([1, 2, 3, 4, 5, 1, 2, 3, 1, 2, 3]) == 5\n",
    "assert count_unique([]) == 0\n",
    "print(\"All tests passed\")"
   ]
  },
  {
   "cell_type": "markdown",
   "id": "71",
   "metadata": {},
   "source": [
    "### 5.2 Counting number of unique words in a text passage\n",
    "\n",
    "Write a function called `get_unique_words` that takes a string of text and returns the set of unique words in the text. The function should ignore case, i.e. 'The' and 'the' count as the same word and should be returned as 'the'. Also it should ignore any punctuation in the string.  \n",
    "\n",
    "For example:\n",
    "\n",
    "```python\n",
    "count_unique_words('The quick brown fox jumped over the lazy dog.')\n",
    "```\n",
    "\n",
    "should return `{'the', 'quick', 'brown', 'fox', 'jumped', 'over', 'lazy', 'dog'}` because there are eight unique words in the text.\n",
    "\n",
    "Hint: You will want to use the split() function to split the text into words. You will also want to use the lower() function to convert all the words to lower case so that words that differ only in case are counted as the same word. You will also want to use the strip() function to remove punctuation from the words. If you `import string`, you can then use the `string.punctuation` variable to get a string containing all the punctuation characters.\n"
   ]
  },
  {
   "cell_type": "code",
   "execution_count": 91,
   "id": "72",
   "metadata": {},
   "outputs": [
    {
     "data": {
      "text/plain": [
       "{'barked', 'dog', 'large', 'that', 'the', 'very', 'was'}"
      ]
     },
     "execution_count": 91,
     "metadata": {},
     "output_type": "execute_result"
    }
   ],
   "source": [
    "import string\n",
    "\n",
    "def get_unique_words(string1):\n",
    "    results = []\n",
    "    string1 = string1.lower()\n",
    "    string1 = string1.split()\n",
    "\n",
    "    for x in range(len(string1)):\n",
    "        string1[x] = string1[x].strip(string.punctuation)\n",
    "\n",
    "    for x in range(len(string1)):\n",
    "        if string1[x] != '' and string1[x] not in results:\n",
    "            results.append(string1[x])\n",
    "\n",
    "    return set(results)\n",
    "\n",
    "string1 = 'The large dog --- that barked -- was very, very LARGE!'\n",
    "get_unique_words(string1)"
   ]
  },
  {
   "cell_type": "code",
   "execution_count": 92,
   "id": "73",
   "metadata": {},
   "outputs": [
    {
     "name": "stdout",
     "output_type": "stream",
     "text": [
      "All tests passed\n"
     ]
    }
   ],
   "source": [
    "# TESTS\n",
    "assert get_unique_words('The quick brown fox jumped over the lazy dog.') == {'the', 'quick', 'brown', 'fox', 'jumped', 'over', 'lazy', 'dog'}\n",
    "assert get_unique_words('The very, very, very large dog barked.') == {'the', 'very', 'large', 'dog', 'barked'}\n",
    "assert get_unique_words('The large dog --- that barked -- was very, very LARGE!') == {'the', 'large', 'dog', 'that', 'barked', 'was', 'very'}\n",
    "assert get_unique_words('... @$! $^&&!! ?? !!') == set() # Empty set\n",
    "assert get_unique_words('0 00 10 10 01 11 11 10') == {'0', '00', '01', '10', '11'}  # Numbers count as words\n",
    "print(\"All tests passed\")"
   ]
  },
  {
   "cell_type": "markdown",
   "id": "74",
   "metadata": {},
   "source": [
    " ### 5.3 Finding the set of words that are shared between two text passages\n",
    "\n",
    "Write a function called `shared_words` that takes two strings of text and returns a list of the words that are shared between the two texts. \n",
    "\n",
    "For example:\n",
    "\n",
    "```python\n",
    "shared_words('the quick brown fox jumped over the lazy dog', 'the lazy brown dog sat in the sun')\n",
    "```\n",
    "\n",
    "should return `['the', 'brown', 'dog']` because these are the words that are shared between the two texts."
   ]
  },
  {
   "cell_type": "code",
   "execution_count": 114,
   "id": "75",
   "metadata": {},
   "outputs": [
    {
     "data": {
      "text/plain": [
       "{'brown', 'dog', 'lazy', 'the'}"
      ]
     },
     "execution_count": 114,
     "metadata": {},
     "output_type": "execute_result"
    }
   ],
   "source": [
    "def shared_words (string1, string2):\n",
    "    results = []\n",
    "    string1 = string1.lower()\n",
    "    string1 = string1.split()\n",
    "\n",
    "    for x in range(len(string1)):\n",
    "        string1[x] = string1[x].strip(string.punctuation)\n",
    "\n",
    "    string2 = string2.lower()\n",
    "    string2 = string2.split()\n",
    "\n",
    "    for x in range(len(string2)):\n",
    "        string2[x] = string2[x].strip(string.punctuation)\n",
    "\n",
    "    #print(string1)\n",
    "    #print(string2)\n",
    "\n",
    "    for a in range(len(string1)):\n",
    "        for b in range(len(string2)):\n",
    "            if string1[a] == string2[b] and string1[a] not in results:\n",
    "                results.append(string1[a])\n",
    "                #print(string1[a], string2[b], ' --------ADDED--------')\n",
    "            #else:\n",
    "                #print(string1[a], string2[b])\n",
    "\n",
    "    return set(results)\n",
    "\n",
    "stringtest = 'The quick brown fox jumped over the lazy dog.'\n",
    "stringtest2 = 'the lazy brown dog sat in the sun'\n",
    "shared_words(stringtest,stringtest2)"
   ]
  },
  {
   "cell_type": "code",
   "execution_count": 115,
   "id": "76",
   "metadata": {},
   "outputs": [
    {
     "name": "stdout",
     "output_type": "stream",
     "text": [
      "All tests passed\n"
     ]
    }
   ],
   "source": [
    "# TESTS\n",
    "assert shared_words('The quick brown fox jumped over the lazy dog.', 'the lazy brown dog sat in the sun') == {'the', 'lazy', 'brown', 'dog'}\n",
    "assert shared_words('These two strings', 'have no shared words') == set()\n",
    "print(\"All tests passed\")"
   ]
  },
  {
   "cell_type": "markdown",
   "id": "77",
   "metadata": {},
   "source": [
    "### 5.4 Finding words that occur in one text passage but not another\n",
    "\n",
    "Write a function called `non_shared_words` that takes two strings of text and returns a list of the words that occur in the first text but not the second.  \n",
    "\n",
    "For example:\n",
    "\n",
    "```python\n",
    "non_shared_words('the quick brown fox jumped over the lazy dog', 'the lazy brown dog sat in the sun')\n",
    "```\n",
    "\n",
    "should return `{'quick', 'fox', 'jumped', 'over'}` because these are the words that occur in the first text but not the second."
   ]
  },
  {
   "cell_type": "code",
   "execution_count": 119,
   "id": "78",
   "metadata": {},
   "outputs": [
    {
     "data": {
      "text/plain": [
       "{'fox', 'jumped', 'over', 'quick'}"
      ]
     },
     "execution_count": 119,
     "metadata": {},
     "output_type": "execute_result"
    }
   ],
   "source": [
    "def non_shared_words (string1, string2):\n",
    "    results = []\n",
    "    string1 = string1.lower()\n",
    "    string1 = string1.split()\n",
    "\n",
    "    for x in range(len(string1)):\n",
    "        string1[x] = string1[x].strip(string.punctuation)\n",
    "\n",
    "    string2 = string2.lower()\n",
    "    string2 = string2.split()\n",
    "\n",
    "    for x in range(len(string2)):\n",
    "        string2[x] = string2[x].strip(string.punctuation)\n",
    "\n",
    "    #print(string1)\n",
    "    #print(string2)\n",
    "\n",
    "    for a in range(len(string1)):\n",
    "        if string1[a] not in string2 and string1[a] not in results:\n",
    "            results.append(string1[a])\n",
    "            #print(string1[a], string2[b], ' --------ADDED--------')\n",
    "        #else:\n",
    "            #print(string1[a], string2[b])\n",
    "\n",
    "    return set(results)\n",
    "\n",
    "stringtest = 'The quick brown fox jumped over the lazy dog.'\n",
    "stringtest2 = 'the lazy brown dog sat in the sun'\n",
    "non_shared_words(stringtest,stringtest2)"
   ]
  },
  {
   "cell_type": "code",
   "execution_count": 120,
   "id": "79",
   "metadata": {},
   "outputs": [
    {
     "name": "stdout",
     "output_type": "stream",
     "text": [
      "All tests passed\n"
     ]
    }
   ],
   "source": [
    "# TESTS\n",
    "assert non_shared_words('the quick brown fox jumped over the lazy dog', 'the lazy brown dog sat in the sun') == {'quick', 'fox', 'jumped', 'over'}\n",
    "assert non_shared_words('1 2 3 4 5 6 7', '4 5 6 7 8 9 10') == {'1', '2', '3'}   \n",
    "assert non_shared_words('4 5 6 7 8 9 10', '1 2 3 4 5 6 7') == {'8', '9', '10'}   \n",
    "assert non_shared_words('1 2 3 4 5', '') == {'1', '2', '3', '4', '5'}\n",
    "assert non_shared_words('1 2 3 4 5', '1 2 3 4 5') == set()\n",
    "print(\"All tests passed\")"
   ]
  },
  {
   "cell_type": "markdown",
   "id": "80",
   "metadata": {},
   "source": [
    "## 6. Working with dictionaries"
   ]
  },
  {
   "cell_type": "markdown",
   "id": "81",
   "metadata": {},
   "source": [
    "### 6.1 Checking if a key is in a dictionary\n",
    "\n",
    "Write a function called `has_key` that takes a dictionary and a key as arguments and returns `True` if the key is in the dictionary and `False` otherwise. \n",
    "\n",
    "For example:\n",
    "\n",
    "```python\n",
    "has_key({'a': 1, 'b': 2, 'c': 3}, 'b')\n",
    "```\n",
    "\n",
    "should return `True` because the key `'b'` is in the dictionary.\n",
    "\n",
    "This is a trivial function that is just a single line of code. This is just an exercise. It wouldn't be useful in a real program."
   ]
  },
  {
   "cell_type": "code",
   "execution_count": 121,
   "id": "82",
   "metadata": {},
   "outputs": [],
   "source": [
    "def has_key(dictionary,key):\n",
    "    if key not in dictionary:\n",
    "        return False\n",
    "    else:\n",
    "        return True"
   ]
  },
  {
   "cell_type": "code",
   "execution_count": 122,
   "id": "83",
   "metadata": {},
   "outputs": [
    {
     "name": "stdout",
     "output_type": "stream",
     "text": [
      "All tests passed\n"
     ]
    }
   ],
   "source": [
    "# TESTS\n",
    "assert has_key({'a': 1, 'b': 2, 'c': 3}, 'a') == True\n",
    "assert has_key({'a': 1, 'b': 2, 'c': 3}, 'd') == False\n",
    "print(\"All tests passed\")"
   ]
  },
  {
   "cell_type": "markdown",
   "id": "84",
   "metadata": {},
   "source": [
    "### 6.2 Counting occurrences of values in a list\n",
    "\n",
    "Write a function called `count_occurrences` that takes a list and returns a dictionary that maps each unique value in the list to the number of times it occurs in the list. \n",
    "\n",
    "For example:\n",
    "\n",
    "```python\n",
    "count_occurrences(['a', 'b', 'a', 'c', 'a', 'b', 'a', 'd'])\n",
    "```\n",
    "\n",
    "should return `{'a': 4, 'b': 2, 'c': 1, 'd': 1}` because `'a'` occurs four times, `'b'` occurs twice, `'c'` and `'d'` occur once."
   ]
  },
  {
   "cell_type": "code",
   "execution_count": 136,
   "id": "85",
   "metadata": {},
   "outputs": [
    {
     "data": {
      "text/plain": [
       "{'a': 4, 'b': 2, 'c': 1, 'd': 1}"
      ]
     },
     "execution_count": 136,
     "metadata": {},
     "output_type": "execute_result"
    }
   ],
   "source": [
    "def count_occurrences(list):\n",
    "    dictionary = {}\n",
    "    for a in list:\n",
    "        if a not in dictionary:\n",
    "            #print(a)\n",
    "            dictionary[a] = 1\n",
    "            #print(dictionary)\n",
    "        else:\n",
    "            dictionary[a] = dictionary[a]+1\n",
    "            #print(dictionary, 'INCREASED VALUE')\n",
    "    return dictionary\n",
    "\n",
    "list1 = ['a', 'b', 'a', 'c', 'a', 'b', 'a', 'd']\n",
    "count_occurrences(list1)"
   ]
  },
  {
   "cell_type": "code",
   "execution_count": 137,
   "id": "86",
   "metadata": {},
   "outputs": [
    {
     "name": "stdout",
     "output_type": "stream",
     "text": [
      "All tests passed\n"
     ]
    }
   ],
   "source": [
    "# TESTS\n",
    "assert count_occurrences(['a', 'b', 'a', 'c', 'a', 'b', 'a', 'd']) == {'a': 4, 'b': 2, 'c': 1, 'd': 1}\n",
    "assert count_occurrences(['a', 'a', 'a', 'a', 'a']) == {'a': 5}\n",
    "assert count_occurrences(['a'] * 20 + ['b'] * 30 + ['c'] * 40) == {'a': 20, 'b': 30, 'c': 40}\n",
    "print(\"All tests passed\")"
   ]
  },
  {
   "cell_type": "markdown",
   "id": "87",
   "metadata": {},
   "source": [
    "### 6.3 Implementing a cache\n",
    "\n",
    "Write a function called `cache` that takes a function as an argument and returns a new function that caches the results of the function calls. If the function is called again with the same arguments, the cached result is returned instead of calling the function again. The function should print a message indicating whether the result was returned from the cache or computed. For example:\n",
    "\n",
    "```python\n",
    "\n",
    "def cache(func):\n",
    "    \"\"\"A function that takes a function as an argument and returns a new function that caches the results of the function calls. If the function is called again with the same arguments, the cached result is returned instead of calling the function again.\n",
    "\n",
    "    For example:\n",
    "\n",
    "    >>> def add(x, y):\n",
    "    ...     print('called add')\n",
    "    ...     return x + y\n",
    "    >>> cached_add = cache(add)\n",
    "    >>> cached_add(1, 2)\n",
    "    called function\n",
    "    3\n",
    "    >>> cached_add(1, 2)\n",
    "    retrieved from cache\n",
    "    3\n",
    "    >>> cached_add(2, 3)\n",
    "    called function\n",
    "    5\n",
    "    >>> cached_add(2, 3)\n",
    "    retrieved from cache\n",
    "    5\n",
    "    \"\"\"\n",
    "    pass\n",
    "```\n",
    "\n",
    ":warning: This is a difficult problem. Don't worry if you can't solve it. Some hints: a function can be defined inside a function and returned. Try writing it for a specifically for the 'add' function first. Then try to make it work for any function. If you get stuck just skip and go onto the next problem. Study the solution when it is posted."
   ]
  },
  {
   "cell_type": "code",
   "execution_count": 273,
   "id": "ab2afbfb",
   "metadata": {},
   "outputs": [],
   "source": [
    "storage = []"
   ]
  },
  {
   "cell_type": "code",
   "execution_count": 289,
   "id": "88",
   "metadata": {},
   "outputs": [],
   "source": [
    "def cache(originalfunction):\n",
    "        \n",
    "        def FunctionWithCache(a,b):\n",
    "\n",
    "            combined_inputs = [a,b,originalfunction]\n",
    "            result = originalfunction(a,b)\n",
    "            \n",
    "            if combined_inputs not in storage:\n",
    "                  storage.append(combined_inputs)\n",
    "                  print (\"called function\")\n",
    "                  return result\n",
    "            else:\n",
    "                  print (\"retrieved function\")\n",
    "                  return result\n",
    "\n",
    "        return (FunctionWithCache)"
   ]
  },
  {
   "cell_type": "code",
   "execution_count": 275,
   "id": "71a21992",
   "metadata": {},
   "outputs": [],
   "source": [
    "functionreturned = cache(lambda x,y: x+y)"
   ]
  },
  {
   "cell_type": "code",
   "execution_count": 282,
   "id": "23383a7f",
   "metadata": {},
   "outputs": [
    {
     "name": "stdout",
     "output_type": "stream",
     "text": [
      "retrieved function\n",
      "3\n"
     ]
    }
   ],
   "source": [
    "functionreturned(1,2)"
   ]
  },
  {
   "cell_type": "code",
   "execution_count": 283,
   "id": "2dd58dae",
   "metadata": {},
   "outputs": [
    {
     "name": "stdout",
     "output_type": "stream",
     "text": [
      "[[1, 2, <function <lambda> at 0x00000247C67D7BA0>]]\n"
     ]
    }
   ],
   "source": [
    "print(storage)"
   ]
  },
  {
   "cell_type": "code",
   "execution_count": 290,
   "id": "89",
   "metadata": {},
   "outputs": [
    {
     "name": "stdout",
     "output_type": "stream",
     "text": [
      "called function\n",
      "retrieved function\n",
      "called function\n",
      "retrieved function\n",
      "All tests passed\n"
     ]
    }
   ],
   "source": [
    "# TESTS\n",
    "cached_add = cache(lambda x, y: x + y)\n",
    "assert cached_add(1, 2) == 3  # will call function\n",
    "assert cached_add(1, 2) == 3  # will retrieve from cache\n",
    "assert cached_add(2, 3) == 5  # will call function\n",
    "assert cached_add(2, 3) == 5  # retrieve from cache\n",
    "print(\"All tests passed\")"
   ]
  },
  {
   "cell_type": "code",
   "execution_count": null,
   "id": "e635efa3",
   "metadata": {},
   "outputs": [],
   "source": [
    "assert cached_add(1, 2) == 3  # will retrieve from cache\n",
    "assert cached_add(2, 3) == 5  # will call function\n",
    "assert cached_add(2, 3) == 5  # retrieve from cache\n",
    "print(\"All tests passed\")"
   ]
  },
  {
   "cell_type": "markdown",
   "id": "90",
   "metadata": {},
   "source": [
    "### 6.4 Map two lists into a dictionary\n",
    "\n",
    "Write a function called `make_dictionary` that takes two lists of equal length and returns a dictionary that maps the values in the first list to the values in the second list. \n",
    "\n",
    "For example:\n",
    "\n",
    "```python\n",
    "make_dictionary(['a', 'b', 'c'], [1, 2, 3])\n",
    "```\n",
    "\n",
    "should return `{'a': 1, 'b': 2, 'c': 3}`."
   ]
  },
  {
   "cell_type": "code",
   "execution_count": 143,
   "id": "91",
   "metadata": {},
   "outputs": [
    {
     "data": {
      "text/plain": [
       "{'a': 1, 'b': 2, 'c': 3}"
      ]
     },
     "execution_count": 143,
     "metadata": {},
     "output_type": "execute_result"
    }
   ],
   "source": [
    "def make_dictionary(list1,list2):\n",
    "    dictionary = {}\n",
    "    for a in range(len(list1)):\n",
    "        dictionary.update({list1[a]:list2[a]})\n",
    "    return dictionary\n",
    "\n",
    "list1 = ['a', 'b', 'c']\n",
    "list2 = [1, 2, 3]\n",
    "make_dictionary(list1,list2)"
   ]
  },
  {
   "cell_type": "code",
   "execution_count": 144,
   "id": "92",
   "metadata": {},
   "outputs": [
    {
     "name": "stdout",
     "output_type": "stream",
     "text": [
      "All tests passed\n"
     ]
    }
   ],
   "source": [
    "# TESTS\n",
    "assert make_dictionary(['a', 'b', 'c'], [1, 2, 3]) == {'a': 1, 'b': 2, 'c': 3}\n",
    "print(\"All tests passed\")"
   ]
  },
  {
   "cell_type": "markdown",
   "id": "93",
   "metadata": {},
   "source": [
    "### 6.5 Merging a pair of dictionaries\n",
    "\n",
    "Write a function that takes a pair of dictionaries for which all the values are numeric and returns a new dictionary that contains the sum of the values for each key. \n",
    "\n",
    "For example:\n",
    "\n",
    "```python\n",
    "merge_dictionaries({'a': 1, 'b': 2, 'c': 3}, {'a': 4, 'b': 5, 'd': 6})\n",
    "```\n",
    "\n",
    "should return `{'a': 5, 'b': 7, 'c': 3, 'd': 6}`.\n"
   ]
  },
  {
   "cell_type": "code",
   "execution_count": 166,
   "id": "94",
   "metadata": {},
   "outputs": [
    {
     "data": {
      "text/plain": [
       "{'a': 1, 'b': 7, 'c': 3}"
      ]
     },
     "execution_count": 166,
     "metadata": {},
     "output_type": "execute_result"
    }
   ],
   "source": [
    "def merge_dictionaries(dict1,dict2):\n",
    "    dictionary = {}\n",
    "\n",
    "\n",
    "    for a in dict1:\n",
    "        b = dict2.get(a)\n",
    "        if b == None:\n",
    "            dictionary[a] = dict1[a]\n",
    "            #print(a,b)\n",
    "        else:\n",
    "            c = dict1[a] + dict2[a]\n",
    "            dictionary[a] = c\n",
    "            #print(a,c)\n",
    "\n",
    "    for d in dict2:\n",
    "        e = dict1.get(d)\n",
    "        #print(d,e)\n",
    "        if e == None:\n",
    "            dictionary[d] = dict2[d]\n",
    "            #print(d,e)                \n",
    "        \n",
    "        #dictionary.update({list1[a]:list2[a]})\n",
    "\n",
    "\n",
    "    return dictionary\n",
    "\n",
    "dict1 = {'a': 1, 'b': 2}\n",
    "dict2 = {'b': 5, 'c': 3}\n",
    "merge_dictionaries(dict1,dict2)"
   ]
  },
  {
   "cell_type": "code",
   "execution_count": 167,
   "id": "95",
   "metadata": {},
   "outputs": [
    {
     "name": "stdout",
     "output_type": "stream",
     "text": [
      "All tests passed\n"
     ]
    }
   ],
   "source": [
    "# TESTS\n",
    "dict1 = {'a': 1, 'b': 2}\n",
    "dict2 = {'b': 5, 'c': 3}\n",
    "assert merge_dictionaries(dict1, dict2) == {'a': 1, 'b': 7, 'c': 3}\n",
    "assert dict1 == {'a': 1, 'b': 2}  # Make sure original dictionaries are not modified\n",
    "assert dict2 == {'b': 5, 'c': 3}\n",
    "print(\"All tests passed\")"
   ]
  },
  {
   "cell_type": "markdown",
   "id": "96",
   "metadata": {},
   "source": [
    "### 6.6  Merging a list of dictionaries\n",
    "\n",
    "Write a function called `merge_list_of_dictionaries` that takes a list of dictionaries for which all the values are numeric and returns a new dictionary that contains the sum of the values for each key. \n",
    "\n",
    "For example:\n",
    "\n",
    "```python\n",
    "merge_dictionaries([{'a': 1, 'b': 2, 'c': 3}, {'a': 4, 'b': 5, 'd': 6}, {'a': 7, 'c': 8, 'e': 9}])\n",
    "```\n",
    "\n",
    "should return `{'a': 12, 'b': 7, 'c': 11, 'd': 6, 'e': 9}`.\n",
    "\n",
    "You can use your `merge_dictionaries` function from the previous problem to help you solve this problem."
   ]
  },
  {
   "cell_type": "code",
   "execution_count": null,
   "id": "97",
   "metadata": {},
   "outputs": [
    {
     "name": "stdout",
     "output_type": "stream",
     "text": [
      "{'a': 12, 'b': 7, 'c': 11, 'd': 6, 'e': 9}\n"
     ]
    }
   ],
   "source": [
    "def merge_list_of_dictionaries(list):\n",
    "\n",
    "    x = {}\n",
    "    for a in range(len(list)):\n",
    "        x = merge_dictionaries(x,list[a])\n",
    "    return x\n",
    "\n",
    "dict1 = {'a': 1, 'b': 2, 'c': 3}\n",
    "dict2 = {'a': 4, 'b': 5, 'd': 6}\n",
    "dict3 = {'a': 7, 'c': 8, 'e': 9}\n",
    "list = [dict1,dict2,dict3]\n",
    "a = merge_list_of_dictionaries(list)\n",
    "print(a)"
   ]
  },
  {
   "cell_type": "code",
   "execution_count": 179,
   "id": "98",
   "metadata": {},
   "outputs": [
    {
     "name": "stdout",
     "output_type": "stream",
     "text": [
      "All tests passed\n"
     ]
    }
   ],
   "source": [
    "# TESTS\n",
    "assert merge_list_of_dictionaries([{'a': 1, 'b': 2, 'c': 3}, {'a': 4, 'b': 5, 'd': 6}, {'a': 7, 'c': 8, 'e': 9}]) == {'a': 12, 'b': 7, 'c': 11, 'd': 6, 'e': 9}\n",
    "print(\"All tests passed\")"
   ]
  },
  {
   "cell_type": "markdown",
   "id": "99",
   "metadata": {},
   "source": [
    "**Copyright © 2023–2025 Jon Barker, University of Sheffield. All rights reserved.**\n"
   ]
  }
 ],
 "metadata": {
  "jupytext": {
   "encoding": "# -*- coding: utf-8 -*-",
   "formats": "ipynb,py:percent"
  },
  "kernelspec": {
   "display_name": "spyder-runtime",
   "language": "python",
   "name": "python3"
  },
  "language_info": {
   "codemirror_mode": {
    "name": "ipython",
    "version": 3
   },
   "file_extension": ".py",
   "mimetype": "text/x-python",
   "name": "python",
   "nbconvert_exporter": "python",
   "pygments_lexer": "ipython3",
   "version": "3.11.13"
  }
 },
 "nbformat": 4,
 "nbformat_minor": 5
}
